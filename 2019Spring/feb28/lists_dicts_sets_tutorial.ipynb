{
 "cells": [
  {
   "cell_type": "markdown",
   "metadata": {},
   "source": [
    "# PythonStudyGroup : Lists, Dicts, Sets\n",
    "### Feb. 26th, 2019\n",
    "\n",
    "Today we will be walking through a few examples in order to better understand lists, dictionaries and sets.\n",
    "\n",
    "You may follow along by cloning and navigating to this repo.\n",
    "\n",
    "`git clone https://github.com/ComBEE-UW-Madison/PythonStudyGroup.git && cd PythonStudyGroup/2019Spring/feb28`\n",
    "\n",
    "Now open up this notebook using jupyter notebooks.\n",
    "\n",
    "`jupyter notebook lists_dicts_sets_tutorial.ipynb`\n",
    "\n",
    "If you do not have jupyter notebook installed you may [download and install it here](https://jupyter.org/install \"Jupyter Notebook Install Page\").\n",
    "\n",
    "_Or_ you may follow along in your favorite text editors or interactive environment.\n",
    "\n",
    "Now that we are situated, lets take a look at some of the data."
   ]
  },
  {
   "cell_type": "code",
   "execution_count": null,
   "metadata": {},
   "outputs": [],
   "source": [
    "# The '!' allows jupyter notebooks to interpret the line as a bash command.\n",
    "!ls data #bash command for looking in our directory (dir)"
   ]
  },
  {
   "cell_type": "markdown",
   "metadata": {},
   "source": [
    "So, we have another directory titled `prokka_output` which we will get to shortly. Here is a brief description of our data dir's contents:\n",
    "\n",
    "| Path | Description |   |\n",
    "|-------:|-------------|---|\n",
    "| metagenome.fna (file) | nucleotide fasta file of metagenomic scaffolds\n",
    "| autometa_test_data_clustered.tsv (file) | tab separated file of metagenome assembled genomes (MAGs).\n",
    "| prokka_output (dir) | folder of prokka annotated cluster_DBSCAN_round4_1\n",
    "\n",
    "\n",
    "We may peak into each of these files with the shell commands `head` or `less`.\n",
    "\n",
    "For this tutorial, we'll use `head`"
   ]
  },
  {
   "cell_type": "code",
   "execution_count": null,
   "metadata": {},
   "outputs": [],
   "source": [
    "!head -n3 data/metagenome.fna"
   ]
  },
  {
   "cell_type": "code",
   "execution_count": null,
   "metadata": {},
   "outputs": [],
   "source": [
    "!head -n3 data/autometa_test_data_clustered.tsv"
   ]
  },
  {
   "cell_type": "markdown",
   "metadata": {},
   "source": [
    "## Lists, Dicts, Sets Oh My!\n",
    "\n",
    "So what are lists, dictionaries and sets?!?\n",
    "\n",
    "All three of these are built-in python data structures."
   ]
  },
  {
   "cell_type": "code",
   "execution_count": null,
   "metadata": {},
   "outputs": [],
   "source": [
    "# lists are commonly instantiated using the syntax\n",
    "l = list()\n",
    "l = []\n",
    "# As you can see, if we test whether these empty lists are the same we will get True\n",
    "isSame = [] == list()\n",
    "print('the list constructors are the same type (list):{}'.format(isSame))"
   ]
  },
  {
   "cell_type": "markdown",
   "metadata": {},
   "source": [
    "### Accessing elements in a list"
   ]
  },
  {
   "cell_type": "code",
   "execution_count": null,
   "metadata": {},
   "outputs": [],
   "source": [
    "myList = list('abcdefg')\n",
    "print(myList)"
   ]
  },
  {
   "cell_type": "markdown",
   "metadata": {},
   "source": [
    "Each of the characters in the list are known as list ***elements***.\n",
    "We can access elements of the list by using the _index_ of the element.\n",
    "\n",
    "The _index_ of the element is the position of the element in the list.\n",
    "I will provide a simple example below."
   ]
  },
  {
   "cell_type": "code",
   "execution_count": null,
   "metadata": {},
   "outputs": [],
   "source": [
    "myList[5]"
   ]
  },
  {
   "cell_type": "markdown",
   "metadata": {},
   "source": [
    "Notice we receieved 'f' as the output! What is going on here?\n",
    "The element at the _5th index_ of the list is 'f'. This is due to lists in python being _0-indexed_. Try accessing the list with some other _indices_ by uncommenting each line one at a time and seeing what you receive as output."
   ]
  },
  {
   "cell_type": "code",
   "execution_count": null,
   "metadata": {
    "collapsed": true
   },
   "outputs": [],
   "source": [
    "# myList[0]\n",
    "# myList[1]\n",
    "# myList[2]\n",
    "# myList[10]"
   ]
  },
  {
   "cell_type": "markdown",
   "metadata": {},
   "source": [
    "Uh oh! What happened? We have received an IndexError. When accessing a list, you must use a position that is within the range of indices in the list. You can access the last elements by putting a negative sign before the index. This will access the list from the end."
   ]
  },
  {
   "cell_type": "code",
   "execution_count": null,
   "metadata": {
    "collapsed": true
   },
   "outputs": [],
   "source": [
    "# myList[-1]\n",
    "# myList[-2]"
   ]
  },
  {
   "cell_type": "markdown",
   "metadata": {},
   "source": [
    "Finally, you may take list slices to access multiple elements at once."
   ]
  },
  {
   "cell_type": "code",
   "execution_count": null,
   "metadata": {
    "collapsed": true
   },
   "outputs": [],
   "source": [
    "# myList[3:6]\n",
    "# myList[0:5:2]"
   ]
  },
  {
   "cell_type": "markdown",
   "metadata": {},
   "source": [
    "Notice what is happening while slicing the list? The elements that are sliced are in the form of\n",
    "\n",
    "`list[inclusive:exclusive:step]`"
   ]
  },
  {
   "cell_type": "code",
   "execution_count": null,
   "metadata": {},
   "outputs": [],
   "source": [
    "# Taking the example from above:\n",
    "includedIndex = 0\n",
    "excludedIndex = 5\n",
    "step = 2\n",
    "myList[includedIndex:excludedIndex:step]"
   ]
  },
  {
   "cell_type": "markdown",
   "metadata": {},
   "source": [
    "### Feel free to play around with each of these parameters to see how the list is manipulated."
   ]
  },
  {
   "cell_type": "markdown",
   "metadata": {},
   "source": [
    "## Adding elements to a list\n",
    "\n",
    "Now that we have the basic syntax figured out for constructing and accessing a list. Lets look at how we may build a list.\n",
    "\n",
    "We will first need to know what methods are available for the list data structure.\n",
    "\n",
    "We can access these methods using the python built-in function `dir()`."
   ]
  },
  {
   "cell_type": "code",
   "execution_count": null,
   "metadata": {},
   "outputs": [],
   "source": [
    "myList = ['ATCG','ACCCG','ATTTCA']\n",
    "dir(myList)"
   ]
  },
  {
   "cell_type": "markdown",
   "metadata": {},
   "source": [
    "Notice anything? The methods are actually given to us as a list!\n",
    "\n",
    "Let's look through this list. The methods with the double underscore (***dunder***) are methods that python will use in the background, so let us ignore these. The methods we are curious about are the methods at the end of our list. As you can see, the _list_ already comes with a few built-in functions for manipulating the data.\n",
    "\n",
    "We are going to be using _append_ to add elements to our list.\n",
    "\n",
    "***Note: Methods refer to functions with the syntax dataStructure.method(). I.E. list.append()***\n",
    "\n",
    "In your free time I encourage you to explore some of the list methods using the syntax `?dataStructure.method()` or `??dataStructure.method()`.\n",
    "\n",
    "- `?dataStructure.method()` will provide you details on what arguments to supply to the method, if any!\n",
    "\n",
    "- `??dataStructure.method()` will display the source code and documentation associated with the method. (This is true for the ipython interpreter, _not jupyter notebooks_ and functions only with certain python objects)"
   ]
  },
  {
   "cell_type": "code",
   "execution_count": null,
   "metadata": {
    "collapsed": true
   },
   "outputs": [],
   "source": [
    "# One example to check out how we will use append!\n",
    "?myList.append()"
   ]
  },
  {
   "cell_type": "markdown",
   "metadata": {},
   "source": [
    "Notice using the append method will put a given element at the end of the list...\n",
    "\n",
    "Here's an example:"
   ]
  },
  {
   "cell_type": "code",
   "execution_count": null,
   "metadata": {},
   "outputs": [],
   "source": [
    "len(myList)"
   ]
  },
  {
   "cell_type": "code",
   "execution_count": null,
   "metadata": {
    "collapsed": true
   },
   "outputs": [],
   "source": [
    "myList.append('GGGGGGGGGGTTTTTGGGG')"
   ]
  },
  {
   "cell_type": "markdown",
   "metadata": {},
   "source": [
    "Notice we have no output... but if we check the len of our list, we see it has gained another element!"
   ]
  },
  {
   "cell_type": "code",
   "execution_count": null,
   "metadata": {},
   "outputs": [],
   "source": [
    "print(myList)\n",
    "print(len(myList))"
   ]
  },
  {
   "cell_type": "markdown",
   "metadata": {},
   "source": [
    "## Dictionaries: A data structure with keys and values\n",
    "\n",
    "Dictionaries are one of the most powerful data structures in python and much of the language is actually constructed as a dictionary! We won't dive too deep into these details, but suffice it to say, dictionaries offer a powerful tool to manipulate data and to search for specific pieces of data.\n",
    "\n",
    "Let's briefly go through instantiating a dictionary."
   ]
  },
  {
   "cell_type": "code",
   "execution_count": null,
   "metadata": {},
   "outputs": [],
   "source": [
    "myDict = dict()\n",
    "myDict = {}\n",
    "isSame = {} == dict()\n",
    "print('data structure types are the same: {}'.format(isSame))"
   ]
  },
  {
   "cell_type": "markdown",
   "metadata": {},
   "source": [
    "Rather than starting with an _empty_ dictionary, we can construct a dicitonary with keys and values."
   ]
  },
  {
   "cell_type": "code",
   "execution_count": null,
   "metadata": {},
   "outputs": [],
   "source": [
    "# dict syntax {key:value, key2:value2, ...}\n",
    "myDict = {'contigA':'AAACCCTTGG',\n",
    "     'contigB':'TTCCGGACTG',\n",
    "     'contigC':'TTCCGGAANNN'}\n",
    "myDict"
   ]
  },
  {
   "cell_type": "markdown",
   "metadata": {},
   "source": [
    "Once again, let's check out the dictionary built-in methods (...and ignore the _dunders_)\n",
    "\n",
    "I encourage you to browse the methods and investigate as previously described with the `?` or `??` syntax."
   ]
  },
  {
   "cell_type": "code",
   "execution_count": null,
   "metadata": {},
   "outputs": [],
   "source": [
    "dir(myDict)"
   ]
  },
  {
   "cell_type": "markdown",
   "metadata": {},
   "source": [
    "## Accessing the dictionary's keys and values\n",
    "\n",
    "We can access the dictionary's keys and values by using key accession. Dictionaries are unordered like sets in contrast to the ordered elements in a list. Having an unordered data structure allows easier access to data in the object. This is particularly important if you are working with large amounts of data.\n",
    "\n",
    "It is common to access a value of a key in a dictionary by providing the key to the dictionary. You can almost think of this as a key to unlock a door to get access to the value behind it. \n",
    "_or_ as a translation by the dictionary, provided a key and a translation(value) for it. This may sound a bit convoluted, so let me show you what I mean.\n",
    "\n",
    "First the general case.\n",
    "\n",
    "```\n",
    "input: dict[key]\n",
    "returns: value\n",
    "```"
   ]
  },
  {
   "cell_type": "code",
   "execution_count": null,
   "metadata": {},
   "outputs": [],
   "source": [
    "myDict"
   ]
  },
  {
   "cell_type": "code",
   "execution_count": null,
   "metadata": {
    "collapsed": true
   },
   "outputs": [],
   "source": [
    "# myDict['contigA']\n",
    "# myDict['contigB']\n",
    "# myDict['contigC']\n",
    "# myDict['contigD']"
   ]
  },
  {
   "cell_type": "markdown",
   "metadata": {},
   "source": [
    "Notice! Instead of **IndexError** when trying to access an index that does not exist in a list, we now receive a **KeyError**. _This is important._ As you will need to provide an exact key if you want to retrieve a value from a dictionary.\n",
    "\n",
    "A convenient method to view the keys, values, or both together as a ***[tuple](https://www.tutorialspoint.com/python/python_tuples.htm \"Python Tuples Explanation\")*** in your dictionary is..."
   ]
  },
  {
   "cell_type": "code",
   "execution_count": null,
   "metadata": {
    "collapsed": true
   },
   "outputs": [],
   "source": [
    "# myDict.keys()\n",
    "# myDict.values()\n",
    "# myDict.items()"
   ]
  },
  {
   "cell_type": "markdown",
   "metadata": {},
   "source": [
    "Dictiontaries, Lists and Sets are flexible data structures and can become quite complex.\n",
    "\n",
    "Such examples include constructing a numpy array which is similar to a list of lists.\n",
    "\n",
    "Or nested dictionaries, which are similar to some pandas data objects.\n",
    "\n",
    "Dictionary values can be _another_ data structure, such as a list, set or even another dictionary!\n",
    "\n",
    "Therefore, you can imagine how a lot of information and metadata could all be fit into one dictionary data structure with related objects categorized by keys and their metadata by their values.\n",
    "\n",
    "But we are getting a bit ahead of ourselves.\n",
    "\n",
    "\n",
    "### Building a dictionary\n",
    "\n",
    "\n",
    "Lets look at how we may build a dictionary of contig identifiers using `cluster_DBSCAN_round4_1.txt` from the `prokka_output` directory"
   ]
  },
  {
   "cell_type": "code",
   "execution_count": null,
   "metadata": {},
   "outputs": [],
   "source": [
    "# Lets look in the directory to make sure we have the cluster_DBSCAN_round4_1.txt file\n",
    "!ls data/prokka_output/"
   ]
  },
  {
   "cell_type": "code",
   "execution_count": null,
   "metadata": {},
   "outputs": [],
   "source": [
    "# Let's see the contents of the file\n",
    "!cat data/prokka_output/cluster_DBSCAN_round4_1.txt"
   ]
  },
  {
   "cell_type": "markdown",
   "metadata": {},
   "source": [
    "As you can see, the file format resembles that of **key:value** pairs and so lets parse these data into a dictionary data structure keyed by the description on the left of the colon.\n",
    "\n",
    "1. We instantiate an empty dictionary.\n",
    "2. We open our file and retrieve the key and value, line by line\n",
    "3. Add retrieved key and value to the dictionary"
   ]
  },
  {
   "cell_type": "code",
   "execution_count": null,
   "metadata": {},
   "outputs": [],
   "source": [
    "# 1. instantiate dict\n",
    "genomeDict = {}\n",
    "# 2. open and read through file (First lets look at how python is viewing the lines)\n",
    "filepath = 'data/prokka_output/cluster_DBSCAN_round4_1.txt'\n",
    "with open(filepath) as filehandle:\n",
    "    for line in filehandle:\n",
    "#         repr() is a python built-in function that will give the representation of the string with special characters\n",
    "        print(repr(line))\n",
    "#     Notice the \\n... This is a new line character and often represents the end of a line.\n",
    "        break"
   ]
  },
  {
   "cell_type": "markdown",
   "metadata": {},
   "source": [
    "We will remove this new line character (`\\n`) and strip the 'white spaces' before constructing our dictionary"
   ]
  },
  {
   "cell_type": "code",
   "execution_count": null,
   "metadata": {},
   "outputs": [],
   "source": [
    "# Check the methods for manipulating a string...\n",
    "# If you're unsure of the data type you're working with. You can use the python built-in function type()\n",
    "type(line)\n",
    "# dir(line)"
   ]
  },
  {
   "cell_type": "code",
   "execution_count": null,
   "metadata": {},
   "outputs": [],
   "source": [
    "line.strip('\\n')"
   ]
  },
  {
   "cell_type": "code",
   "execution_count": null,
   "metadata": {},
   "outputs": [],
   "source": [
    "line.strip('\\n').split(':')"
   ]
  },
  {
   "cell_type": "markdown",
   "metadata": {},
   "source": [
    "Now we have our line split into the key and value we want. Notice, it is in a list structure! We can access each element and update our dictionary..."
   ]
  },
  {
   "cell_type": "code",
   "execution_count": null,
   "metadata": {},
   "outputs": [],
   "source": [
    "# 3. Add retrieved key:value pair to dictionary\n",
    "elements = line.strip('\\n').split(':')\n",
    "\n",
    "# Note we can 'unpack' our list with variable assignment if we know we will always receive the same sized list.\n",
    "# key, value = line.strip('\\t').split(':')\n",
    "# genomeDict[key] = value\n",
    "\n",
    "# List accession as we have previously learned\n",
    "genomeDict[elements[0]] = elements[1]\n",
    "genomeDict"
   ]
  },
  {
   "cell_type": "markdown",
   "metadata": {},
   "source": [
    "Notice we add keys into our dictionary by providing the key and the value to hold for the key. This value can be _whatever_ we like."
   ]
  },
  {
   "cell_type": "code",
   "execution_count": null,
   "metadata": {},
   "outputs": [],
   "source": [
    "genomeDict['someKey'] = ['a','list','of','values']\n",
    "\n",
    "print(genomeDict)"
   ]
  },
  {
   "cell_type": "markdown",
   "metadata": {},
   "source": [
    "Let's try adding the same key but with a different value"
   ]
  },
  {
   "cell_type": "code",
   "execution_count": null,
   "metadata": {},
   "outputs": [],
   "source": [
    "genomeDict['someKey'] = 23\n",
    "\n",
    "print(genomeDict)"
   ]
  },
  {
   "cell_type": "markdown",
   "metadata": {},
   "source": [
    "Our value has changed to 23! As you can see, the keys of the dictionary ***must be unique***! Therefore, if a key is already in the dictionary, it will be overwritten with the supplied value. So it is often important to check if the key is in the dictionary first, to avoid accidentally overwriting any of your data."
   ]
  },
  {
   "cell_type": "code",
   "execution_count": null,
   "metadata": {},
   "outputs": [],
   "source": [
    "test1 = 'someKey' in genomeDict\n",
    "test2 = 'someOtherKey' in genomeDict\n",
    "test3 = 'somekey' in genomeDict\n",
    "\n",
    "print('test1:%s' % test1)\n",
    "print('test3:%s' % test2)\n",
    "print('test2:%s' % test3)"
   ]
  },
  {
   "cell_type": "markdown",
   "metadata": {},
   "source": [
    "Notice the keys _are_ case sensitive. Ensuring the exact key is provided can often same time when trying to construct and access data across multiple files where keys are shared.\n",
    "\n",
    "We now have one of the key value pairs in our dictionary! Lets try it altogether now..."
   ]
  },
  {
   "cell_type": "code",
   "execution_count": null,
   "metadata": {},
   "outputs": [],
   "source": [
    "# 1. instantiate dict\n",
    "genomeDict = {}\n",
    "# 2. open and read through file (First lets look at how python is viewing the lines)\n",
    "filepath = 'data/prokka_output/cluster_DBSCAN_round4_1.txt'\n",
    "with open(filepath) as filehandle:\n",
    "    for line in filehandle:\n",
    "        elements = line.strip().split(':')\n",
    "#         We could add a check here to see if the key is already in the dict.\n",
    "        genomeDict[elements[0]] = elements[1]\n",
    "#         genomeDict.update({elements[0]:elements[1]})\n",
    "        \n",
    "genomeDict"
   ]
  },
  {
   "cell_type": "markdown",
   "metadata": {},
   "source": [
    "### Lets talk about Sets\n",
    "\n",
    "Sets are similar to lists _and_ dictionaries. Sets contain the same properties of a dictionary, those being that they are unordered must be unique. But sets are constructed similar to an array of elements (i.e. not constructed as key:value pairs)... Like a list!\n",
    "\n",
    "So how do sets behave?\n",
    "Let's start by instantiating a set data structure."
   ]
  },
  {
   "cell_type": "code",
   "execution_count": null,
   "metadata": {},
   "outputs": [],
   "source": [
    "mySet = set()\n",
    "mySet"
   ]
  },
  {
   "cell_type": "markdown",
   "metadata": {},
   "source": [
    "What gives? There is only one constructor for this? Not so, sets may also be constructed using _comprehensions_, but thats for another time. \n",
    "\n",
    "Let me first show you some behavior that you may think is weird at first. I will show you the simple fix and we can move on to methods..."
   ]
  },
  {
   "cell_type": "code",
   "execution_count": null,
   "metadata": {},
   "outputs": [],
   "source": [
    "mySet = set('contig1:value')\n",
    "print(mySet)\n",
    "mySet = set(['contig1','contig2','contig1','contig2','contig3'])\n",
    "print(mySet)"
   ]
  },
  {
   "cell_type": "markdown",
   "metadata": {},
   "source": [
    "Our first set composed of characters! If we want to construct a set of strings, we will need to pass the [] constructor then use the set() function\n",
    "\n",
    "Our second sets duplicate contigs have disappeared! Sets only contain unique elements. So if you add an element to the set that is already contained therein, nothing will change!\n",
    "\n",
    "It is important to note, this is **not the same behavior as a list**. Which will add any element as it is agnostic to unique elements."
   ]
  },
  {
   "cell_type": "code",
   "execution_count": null,
   "metadata": {},
   "outputs": [],
   "source": [
    "mySet = set(['contig1:value'])\n",
    "mySet"
   ]
  },
  {
   "cell_type": "markdown",
   "metadata": {},
   "source": [
    "Now lets check out some methods for sets..."
   ]
  },
  {
   "cell_type": "code",
   "execution_count": null,
   "metadata": {},
   "outputs": [],
   "source": [
    "dir(mySet)\n"
   ]
  },
  {
   "cell_type": "code",
   "execution_count": null,
   "metadata": {
    "collapsed": true
   },
   "outputs": [],
   "source": [
    "# mySet[0]"
   ]
  },
  {
   "cell_type": "markdown",
   "metadata": {},
   "source": [
    "Notice we receieve a **TypeError**! set objects do _not_ support indexing! So how do we access the elements in a set?\n",
    "\n",
    "One method is `s.pop()`. Using `pop()` will remove the element from the set. We can also iterate through the set, similar to the way we would a list object."
   ]
  },
  {
   "cell_type": "code",
   "execution_count": null,
   "metadata": {},
   "outputs": [],
   "source": [
    "for elem in mySet:\n",
    "    print(repr(elem))"
   ]
  },
  {
   "cell_type": "markdown",
   "metadata": {},
   "source": [
    "As you can see, we can still access elements by ***iterating*** through the set...\n",
    "\n",
    "While I'm mentioning iteration. All three of these objects (dicts, lists, sets) are iterable objects.\n",
    "\n",
    "This means you can iterate through them using the `__iter__` method, commonly called with **for**"
   ]
  },
  {
   "cell_type": "code",
   "execution_count": null,
   "metadata": {},
   "outputs": [],
   "source": [
    "for key in myDict:\n",
    "    print('myDict',key)\n",
    "    \n",
    "for elem in myList:\n",
    "    print('myList',elem)\n",
    "    \n",
    "for elem in mySet:\n",
    "    print('mySet',elem)"
   ]
  },
  {
   "cell_type": "markdown",
   "metadata": {},
   "source": [
    "Iteration is a powerful concept to grasp, and once you are able to put all of this syntax together, you can quickly and efficiently construct sets, lists, or dictionaries in only a few lines! (This is some foreshadowing to comprehensions)\n",
    "\n",
    "But First lets return to our dicitonary object and see how we may iterate through this another way using the keys and items methods."
   ]
  },
  {
   "cell_type": "code",
   "execution_count": null,
   "metadata": {},
   "outputs": [],
   "source": [
    "# Recall\n",
    "myDict.items() # Returns list of (key,value) tuples\n",
    "# myDict.keys() # Returns list of dict keys"
   ]
  },
  {
   "cell_type": "markdown",
   "metadata": {},
   "source": [
    "Lets take advantage of the items method and unpack the tuples while we iterate! Lets see how this is done below..."
   ]
  },
  {
   "cell_type": "code",
   "execution_count": null,
   "metadata": {},
   "outputs": [],
   "source": [
    "for key,value in myDict.items():\n",
    "    print('here is my key: ',key)\n",
    "    print('now the value... ',value)"
   ]
  },
  {
   "cell_type": "markdown",
   "metadata": {},
   "source": [
    "Another method to retrieve values based on specific keys..."
   ]
  },
  {
   "cell_type": "code",
   "execution_count": null,
   "metadata": {},
   "outputs": [],
   "source": [
    "for k in myDict:\n",
    "    val = myDict[k]\n",
    "    print(k,val)"
   ]
  },
  {
   "cell_type": "markdown",
   "metadata": {},
   "source": [
    "I've shown you a few different routes to access and manipulate your data...\n",
    "\n",
    "Now lets looks at how we may construct some of these objects with comprehensions!\n",
    "\n",
    "***A final challenge exercise:***\n",
    "\n",
    "Run `count_pfams.py` (I've placed the file in the example directory). Try to understand where some of these data objects are being used and how each is being employed due to its unique properties."
   ]
  },
  {
   "cell_type": "code",
   "execution_count": null,
   "metadata": {},
   "outputs": [],
   "source": [
    "listComprehension = [elem for elem in range(0,5)]\n",
    "setComprehension = {elem for elem in range(0,5)}\n",
    "dictComprehension = {elem:elem+1 for elem in range(0,5)}\n",
    "print('listComprhension: ',listComprehension)\n",
    "print('setComprehension: ',setComprehension)\n",
    "print('dictComprehension: ',dictComprehension)\n",
    "\n",
    "\n",
    "# Extra! Generators!!!\n",
    "# someStuff = (elem for elem in range(0,20))\n",
    "# print(someStuff)"
   ]
  },
  {
   "cell_type": "code",
   "execution_count": null,
   "metadata": {},
   "outputs": [],
   "source": [
    "# Show count_pfams.py\n",
    "!ls example/"
   ]
  },
  {
   "cell_type": "code",
   "execution_count": null,
   "metadata": {},
   "outputs": [],
   "source": [
    "!cat example/count_pfams.py"
   ]
  },
  {
   "cell_type": "code",
   "execution_count": null,
   "metadata": {},
   "outputs": [],
   "source": [
    "!head data/autometa_test_data_clustered.tsv"
   ]
  },
  {
   "cell_type": "code",
   "execution_count": null,
   "metadata": {},
   "outputs": [],
   "source": [
    "!python3 example/count_pfams.py"
   ]
  },
  {
   "cell_type": "code",
   "execution_count": null,
   "metadata": {},
   "outputs": [],
   "source": [
    "!python3 example/count_pfams.py DBSCAN_round2_2 cluster data/autometa_test_data_clustered.tsv example/count_pfams.output"
   ]
  },
  {
   "cell_type": "code",
   "execution_count": null,
   "metadata": {
    "collapsed": true
   },
   "outputs": [],
   "source": []
  }
 ],
 "metadata": {
  "kernelspec": {
   "display_name": "Python 3",
   "language": "python",
   "name": "python3"
  },
  "language_info": {
   "codemirror_mode": {
    "name": "ipython",
    "version": 3
   },
   "file_extension": ".py",
   "mimetype": "text/x-python",
   "name": "python",
   "nbconvert_exporter": "python",
   "pygments_lexer": "ipython3",
   "version": "3.6.8"
  }
 },
 "nbformat": 4,
 "nbformat_minor": 2
}
