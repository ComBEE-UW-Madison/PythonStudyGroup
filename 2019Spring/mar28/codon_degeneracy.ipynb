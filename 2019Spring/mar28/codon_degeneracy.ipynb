{
 "cells": [
  {
   "cell_type": "markdown",
   "metadata": {},
   "source": [
    "# Python Study Group : Determining Codon Degeneracy\n",
    "## March 28th, 2019\n",
    "\n",
    "We will be measuring codon degeneracy using a protein between 3 related organisms.\n",
    "\n",
    "Once we have measured the codon usage for each of these organisms, we may begin to investigate any biases one organism may have for any particular codon. This ultimately allows scientists to detect purifying selection and a number of metrics have been implemented to identify these selection events.\n",
    "\n",
    "Here is a nice review with more detailed explanations: [Nat. Rev. Gen. 2011](https://www.ncbi.nlm.nih.gov/pmc/articles/PMC3074964/ \"Synonymous but not the same: the causes and consequences of codon bias\")\n",
    "\n",
    "### Some common terms:\n",
    "\n",
    "- non-synonymous to synonymous codon subsitutions. (dN/dS)\n",
    "- Relative synonymous codon usage (RSCU)\n",
    "\n",
    "### Setup\n",
    "\n",
    "1. Clone the GitHub repo for [PythonStudyGroup](https://github.com/ComBEE-UW-Madison/PythonStudyGroup \"PSG Repo\")\n",
    "2. Download & Install [Docker](docker.com \"docker website\")\n",
    "3. pull the docker images\n",
    "\n",
    "```bash\n",
    "# 1. Clone the GitHub Repo\n",
    "git clone https://github.com/ComBEE-UW-Madison/PythonStudyGroup\n",
    "# 3. Pull the docker images to run bioinformatic tools\n",
    "docker pull evanrees/kwanlab:pal2nal\n",
    "docker pull biocontainers/clustal-omega:v1.2.1_cv5\n",
    "```\n",
    "\n",
    "### Begin\n",
    "\n",
    "We will start out by first ensuring we have all of the necessary data. I've placed the data in the [PythonStudyGroup](https://github.com/ComBEE-UW-Madison/PythonStudyGroup \"PSG Repo\") repository and you can locate it in the directory titled `/path/to/PSG/repo/2019Spring/mar28`.\n",
    "\n"
   ]
  },
  {
   "cell_type": "markdown",
   "metadata": {},
   "source": [
    "## Calculating Non-synonymous to Synonymous codon usage (dN/dS)\n",
    "\n",
    "### General workflow\n",
    "\n",
    "1. Concatenate **protein** sequences\n",
    "2. Concatenate nucleotide sequences in the _same order_ of the concatenated protein sequences\n",
    "3. Align protein sequences using `clustalo`\n",
    "4. Use `pal2nal.pl` to perform protein to nucleotide alignment with aligned\n",
    "proteins and concatenated nucleotide files\n",
    "5. Use `codeml` with a respective `*.cnt` file and a corresponding `*.tree` file\n",
    "with simple newick format *(<gene_name>,arbitrary_name);*"
   ]
  },
  {
   "cell_type": "code",
   "execution_count": 1,
   "metadata": {},
   "outputs": [
    {
     "name": "stdout",
     "output_type": "stream",
     "text": [
      "example/data/processed:\r\n",
      "\r\n",
      "example/data/raw:\r\n",
      "org1_yenB.faa org2_yenB.faa org3_yenB.faa\r\n",
      "org1_yenB.fna org2_yenB.fna org3_yenB.fna\r\n"
     ]
    }
   ],
   "source": [
    "!ls example/data/*"
   ]
  },
  {
   "cell_type": "code",
   "execution_count": 2,
   "metadata": {},
   "outputs": [
    {
     "name": "stdout",
     "output_type": "stream",
     "text": [
      "previous to concatenation\n",
      "example/data/raw/org1_yenB.faa example/data/raw/org3_yenB.faa\n",
      "example/data/raw/org2_yenB.faa\n",
      "Post concatenation\n",
      "example/data/processed/orgs_yenB.faa\n"
     ]
    }
   ],
   "source": [
    "# 1. Concatenate **amino acid** sequences\n",
    "# !rm example/data/processed/orgs_yenB.faa\n",
    "!echo \"previous to concatenation\"\n",
    "!ls example/data/raw/*.faa\n",
    "!cat example/data/raw/*.faa >> example/data/processed/orgs_yenB.faa\n",
    "!echo \"Post concatenation\"\n",
    "!ls example/data/processed/*.faa"
   ]
  },
  {
   "cell_type": "code",
   "execution_count": 3,
   "metadata": {},
   "outputs": [
    {
     "name": "stdout",
     "output_type": "stream",
     "text": [
      ">example1_hypothetical_protein\r\n",
      ">example2_hypothetical_protein\r\n",
      ">example3_hypothetical_protein\r\n"
     ]
    }
   ],
   "source": [
    "# Check sequence order\n",
    "!grep \">\" example/data/processed/orgs_yenB.faa"
   ]
  },
  {
   "cell_type": "code",
   "execution_count": 4,
   "metadata": {},
   "outputs": [
    {
     "name": "stdout",
     "output_type": "stream",
     "text": [
      "previous to concatenation\n",
      "example/data/raw/org1_yenB.fna example/data/raw/org3_yenB.fna\n",
      "example/data/raw/org2_yenB.fna\n",
      "Post concatenation\n",
      "example/data/processed:\n",
      "orgs_yenB.faa orgs_yenB.fna\n",
      "\n",
      "example/data/raw:\n",
      "org1_yenB.faa org2_yenB.faa org3_yenB.faa\n",
      "org1_yenB.fna org2_yenB.fna org3_yenB.fna\n"
     ]
    }
   ],
   "source": [
    "# 2. concatenate **nucleotide** sequences in corresponding order of orgs_yenB.faa\n",
    "# !rm example/data/processed/orgs_yenB.fna\n",
    "!echo \"previous to concatenation\"\n",
    "!ls example/data/raw/*.fna\n",
    "!cat example/data/raw/*.fna >> example/data/processed/orgs_yenB.fna\n",
    "!echo \"Post concatenation\"\n",
    "!ls example/data/*"
   ]
  },
  {
   "cell_type": "code",
   "execution_count": 5,
   "metadata": {},
   "outputs": [
    {
     "name": "stdout",
     "output_type": "stream",
     "text": [
      ">example1_hypothetical_protein\r\n",
      ">example2_hypothetical_protein\r\n",
      ">example3_hypothetical_protein\r\n"
     ]
    }
   ],
   "source": [
    "# Check the sequence order\n",
    "!grep \">\" example/data/processed/orgs_yenB.fna"
   ]
  },
  {
   "cell_type": "code",
   "execution_count": 6,
   "metadata": {},
   "outputs": [
    {
     "name": "stdout",
     "output_type": "stream",
     "text": [
      "nucleotides file\n",
      ">example1_hypothetical_protein\n",
      ">example2_hypothetical_protein\n",
      ">example3_hypothetical_protein\n",
      "amino acids file\n",
      ">example1_hypothetical_protein\n",
      ">example2_hypothetical_protein\n",
      ">example3_hypothetical_protein\n"
     ]
    }
   ],
   "source": [
    "!echo \"nucleotides file\"\n",
    "!grep \">\" example/data/processed/orgs_yenB.fna\n",
    "!echo \"amino acids file\"\n",
    "!grep \">\" example/data/processed/orgs_yenB.faa"
   ]
  },
  {
   "cell_type": "code",
   "execution_count": 7,
   "metadata": {},
   "outputs": [
    {
     "name": "stdout",
     "output_type": "stream",
     "text": [
      "Clustal Omega - 1.2.1 (AndreaGiacomo)\r\n",
      "\r\n",
      "If you like Clustal-Omega please cite:\r\n",
      " Sievers F, Wilm A, Dineen D, Gibson TJ, Karplus K, Li W, Lopez R, McWilliam H, Remmert M, Söding J, Thompson JD, Higgins DG.\r\n",
      " Fast, scalable generation of high-quality protein multiple sequence alignments using Clustal Omega.\r\n",
      " Mol Syst Biol. 2011 Oct 11;7:539. doi: 10.1038/msb.2011.75. PMID: 21988835.\r\n",
      "If you don't like Clustal-Omega, please let us know why (and cite us anyway).\r\n",
      "\r\n",
      "Check http://www.clustal.org for more information and updates.\r\n",
      "\r\n",
      "Usage: clustalo [-hv] [-i {<file>,-}] [--hmm-in=<file>]... [--dealign] [--profile1=<file>] [--profile2=<file>] [--is-profile] [-t {Protein, RNA, DNA}] [--infmt={a2m=fa[sta],clu[stal],msf,phy[lip],selex,st[ockholm],vie[nna]}] [--distmat-in=<file>] [--distmat-out=<file>] [--guidetree-in=<file>] [--guidetree-out=<file>] [--pileup] [--full] [--full-iter] [--cluster-size=<n>] [--clustering-out=<file>] [--trans=<n>] [--posterior-out=<file>] [--use-kimura] [--percent-id] [-o {file,-}] [--outfmt={a2m=fa[sta],clu[stal],msf,phy[lip],selex,st[ockholm],vie[nna]}] [--residuenumber] [--wrap=<n>] [--output-order={input-order,tree-order}] [--iterations=<n>] [--max-guidetree-iterations=<n>] [--max-hmm-iterations=<n>] [--maxnumseq=<n>] [--maxseqlen=<l>] [--auto] [--threads=<n>] [--pseudo=<file>] [-l <file>] [--version] [--long-version] [--force] [--MAC-RAM=<n>]\r\n",
      "\r\n",
      "A typical invocation would be: clustalo -i my-in-seqs.fa -o my-out-seqs.fa -v\r\n",
      "See below for a list of all options.\r\n",
      "                            \r\n",
      "Sequence Input:\r\n",
      "  -i, --in, --infile={<file>,-} Multiple sequence input file (- for stdin)\r\n",
      "  --hmm-in=<file>           HMM input files\r\n",
      "  --dealign                 Dealign input sequences\r\n",
      "  --profile1, --p1=<file>   Pre-aligned multiple sequence file (aligned columns will be kept fix)\r\n",
      "  --profile2, --p2=<file>   Pre-aligned multiple sequence file (aligned columns will be kept fix)\r\n",
      "  --is-profile              disable check if profile, force profile (default no)\r\n",
      "  -t, --seqtype={Protein, RNA, DNA} Force a sequence type (default: auto)\r\n",
      "  --infmt={a2m=fa[sta],clu[stal],msf,phy[lip],selex,st[ockholm],vie[nna]} Forced sequence input file format (default: auto)\r\n",
      "                            \r\n",
      "Clustering:\r\n",
      "  --distmat-in=<file>       Pairwise distance matrix input file (skips distance computation)\r\n",
      "  --distmat-out=<file>      Pairwise distance matrix output file\r\n",
      "  --guidetree-in=<file>     Guide tree input file (skips distance computation and guide-tree clustering step)\r\n",
      "  --guidetree-out=<file>    Guide tree output file\r\n",
      "  --pileup                  Sequentially align sequences\r\n",
      "  --full                    Use full distance matrix for guide-tree calculation (might be slow; mBed is default)\r\n",
      "  --full-iter               Use full distance matrix for guide-tree calculation during iteration (might be slowish; mBed is default)\r\n",
      "  --cluster-size=<n>        soft maximum of sequences in sub-clusters\r\n",
      "  --clustering-out=<file>   Clustering output file\r\n",
      "  --trans=<n>               use transitivity (default: 0)\r\n",
      "  --posterior-out=<file>    Posterior probability output file\r\n",
      "  --use-kimura              use Kimura distance correction for aligned sequences (default no)\r\n",
      "  --percent-id              convert distances into percent identities (default no)\r\n",
      "                            \r\n",
      "Alignment Output:\r\n",
      "  -o, --out, --outfile={file,-} Multiple sequence alignment output file (default: stdout)\r\n",
      "  --outfmt={a2m=fa[sta],clu[stal],msf,phy[lip],selex,st[ockholm],vie[nna]} MSA output file format (default: fasta)\r\n",
      "  --residuenumber, --resno  in Clustal format print residue numbers (default no)\r\n",
      "  --wrap=<n>                number of residues before line-wrap in output\r\n",
      "  --output-order={input-order,tree-order} MSA output order like in input/guide-tree\r\n",
      "                            \r\n",
      "Iteration:\r\n",
      "  --iterations, --iter=<n>  Number of (combined guide-tree/HMM) iterations\r\n",
      "  --max-guidetree-iterations=<n> Maximum number of guidetree iterations\r\n",
      "  --max-hmm-iterations=<n>  Maximum number of HMM iterations\r\n",
      "                            \r\n",
      "Limits (will exit early, if exceeded):\r\n",
      "  --maxnumseq=<n>           Maximum allowed number of sequences\r\n",
      "  --maxseqlen=<l>           Maximum allowed sequence length\r\n",
      "                            \r\n",
      "Miscellaneous:\r\n",
      "  --auto                    Set options automatically (might overwrite some of your options)\r\n",
      "  --threads=<n>             Number of processors to use\r\n",
      "  --pseudo=<file>           Input file for pseudo-count parameters\r\n",
      "  -l, --log=<file>          Log all non-essential output to this file\r\n",
      "  -h, --help                Print this help and exit\r\n",
      "  -v, --verbose             Verbose output (increases if given multiple times)\r\n",
      "  --version                 Print version information and exit\r\n",
      "  --long-version            Print long version information and exit\r\n",
      "  --force                   Force file overwriting\r\n"
     ]
    }
   ],
   "source": [
    "!docker run --rm biocontainers/clustal-omega:v1.2.1_cv5 clustalo -h"
   ]
  },
  {
   "cell_type": "code",
   "execution_count": 9,
   "metadata": {},
   "outputs": [
    {
     "name": "stdout",
     "output_type": "stream",
     "text": [
      "Pre-alignment\n",
      "orgs_yenB.aln orgs_yenB.faa orgs_yenB.fna\n",
      "Post-alignment\n",
      "orgs_yenB.aln orgs_yenB.faa orgs_yenB.fna\n"
     ]
    }
   ],
   "source": [
    "#!docker run --rm -it biocontainers/clustal-omega:v1.2.1_cv5\n",
    "!echo \"Pre-alignment\"\n",
    "!ls example/data/processed\n",
    "!docker run \\\n",
    "    --rm \\\n",
    "    -v $(pwd)/example/data:/output \\\n",
    "    biocontainers/clustal-omega:v1.2.1_cv5 \\\n",
    "        clustalo -i /output/processed/orgs_yenB.faa \\\n",
    "        --force \\\n",
    "        --auto -o /output/processed/orgs_yenB.aln\n",
    "!echo \"Post-alignment\"        \n",
    "!ls example/data/processed"
   ]
  },
  {
   "cell_type": "markdown",
   "metadata": {},
   "source": [
    "### Running pal2nal (protein alignment to nucleotide alignment)\n",
    "\n",
    "Now that we have aligned our protein sequences we need to perform a protein alignment to nucleotide alignment calculation to determine the corresponding codons.\n",
    "\n",
    "Luckily for us, I've constructed a docker image to manage all of the dependencies of running it!\n",
    "\n",
    "This works similarly to the clustalo docker image..."
   ]
  },
  {
   "cell_type": "code",
   "execution_count": 10,
   "metadata": {},
   "outputs": [
    {
     "name": "stdout",
     "output_type": "stream",
     "text": [
      "\r\n",
      "pal2nal.pl  (v14)\r\n",
      "\r\n",
      "Usage:  pal2nal.pl  pep.aln  nuc.fasta  [nuc.fasta...]  [options]\r\n",
      "\r\n",
      "\r\n",
      "    pep.aln:    protein alignment either in CLUSTAL or FASTA format\r\n",
      "\r\n",
      "    nuc.fasta:  DNA sequences (single multi-fasta or separated files)\r\n",
      "\r\n",
      "    Options:  -h            Show help \r\n",
      "\r\n",
      "              -output (clustal|paml|fasta|codon)\r\n",
      "                            Output format; default = clustal\r\n",
      "\r\n",
      "              -blockonly    Show only user specified blocks\r\n",
      "                            '#' under CLUSTAL alignment (see example)\r\n",
      "\r\n",
      "              -nogap        remove columns with gaps and inframe stop codons\r\n",
      "\r\n",
      "              -nomismatch   remove mismatched codons (mismatch between\r\n",
      "                            pep and cDNA) from the output\r\n",
      "\r\n",
      "              -codontable  N\r\n",
      "                    1  Universal code (default)\r\n",
      "                    2  Vertebrate mitochondrial code\r\n",
      "                    3  Yeast mitochondrial code\r\n",
      "                    4  Mold, Protozoan, and Coelenterate Mitochondrial code\r\n",
      "                       and Mycoplasma/Spiroplasma code\r\n",
      "                    5  Invertebrate mitochondrial\r\n",
      "                    6  Ciliate, Dasycladacean and Hexamita nuclear code\r\n",
      "                    9  Echinoderm and Flatworm mitochondrial code\r\n",
      "                   10  Euplotid nuclear code\r\n",
      "                   11  Bacterial, archaeal and plant plastid code\r\n",
      "                   12  Alternative yeast nuclear code\r\n",
      "                   13  Ascidian mitochondrial code\r\n",
      "                   14  Alternative flatworm mitochondrial code\r\n",
      "                   15  Blepharisma nuclear code\r\n",
      "                   16  Chlorophycean mitochondrial code\r\n",
      "                   21  Trematode mitochondrial code\r\n",
      "                   22  Scenedesmus obliquus mitochondrial code\r\n",
      "                   23  Thraustochytrium mitochondrial code\r\n",
      "\r\n",
      "\r\n",
      "              -html         HTML output (only for the web server)\r\n",
      "\r\n",
      "              -nostderr     No STDERR messages (only for the web server)\r\n",
      "\r\n",
      "\r\n",
      "    - sequence order in pep.aln and nuc.fasta should be the same.\r\n",
      "\r\n",
      "    - IDs in pep.aln are used in the output.\r\n",
      "\r\n"
     ]
    }
   ],
   "source": [
    "!docker run --rm evanrees/kwanlab:pal2nal pal2nal.pl -h"
   ]
  },
  {
   "cell_type": "code",
   "execution_count": 11,
   "metadata": {},
   "outputs": [
    {
     "name": "stdout",
     "output_type": "stream",
     "text": [
      "CLUSTAL W multiple sequence alignment\r\n",
      "\r\n",
      "example1_hypothetical_protein    ATGAGTGAATTGCCTTCTAATAAAGCAGTTGATAATATCGATGCCTCTGTATTAGCTACT\r\n",
      "example2_hypothetical_protein    ATGAGTGAATCGTCTTCTAATAAAGTGGTTGATAATGTCAGTTATTCTGTATTACCCACT\r\n",
      "example3_hypothetical_protein    ATGAATGAACCCTCTCCTGATAAAACGGTTGATAATATAAGCTTTTCTGAGTTGCCCGTT\r\n",
      "\r\n",
      "example1_hypothetical_protein    CAATCACCGAATTTATCACACCGTTTACGTATGCTGATATGCACACTGTTATTAGCTGTC\r\n",
      "example2_hypothetical_protein    CAGCAGTCAAAGTTATTGCACAGTATGCGTACGCTTTTATCCACACTATTATTAGCTATC\r\n",
      "example3_hypothetical_protein    CAACAGCCAAGCCTACTGCACCGTATTCGTACACTTGTATCTGCACTATTGTTAGCTATC\r\n",
      "\r\n",
      "example1_hypothetical_protein    TGGTGTTTGGTGATGCCATTGATTAATCTAGTCTGGCGTTTGCTTCATATCCCATACCTG\r\n",
      "example2_hypothetical_protein    TGGTGTTTGGTGATGCCATTAATTAATGTAGTCTGGCGTTTGCTTCATATACCGCATCTT\r\n",
      "example3_hypothetical_protein    TGGTGTTTGGTAATGCCTTTGGTTAATTTGGTTTGGCGTCTGCTTTATATCCCACACCTT\r\n",
      "\r\n",
      "example1_hypothetical_protein    GAGAAATGTTATTTTATTTTTCACGGTGGATGTTGTTGGCTATTTAATTTGCGTTGCATT\r\n",
      "example2_hypothetical_protein    GAAAAGTGTTATTTTGTTTTTCATAGTGGGTGTTGTTGGCTATTTAATCTACGTTGCATT\r\n",
      "example3_hypothetical_protein    GAAAAATGTTATTTTATTTTCCACACTGGATGTTGTTGGTTGTTTAATCTGCGTTGCATT\r\n",
      "\r\n",
      "example1_hypothetical_protein    GAGCAGGGAAAAATATCGACTCAAAGTCCAACTCTGTTTTTATCAAACCACATTTCTTAT\r\n",
      "example2_hypothetical_protein    GAGCAGGGAGAGATATCGACTCAATGCCCCACCTTATTTTTATCAAATCATGTTTCTTAT\r\n",
      "example3_hypothetical_protein    GAACAGGGGAATATATCGACTCAACGCCCCACGTTATTTTTATCAAATCATGTTTCTTAT\r\n",
      "\r\n",
      "example1_hypothetical_protein    CTGGATGTTTTTGTTTTGGGGCGCTCTTTACCTGCATTTTTTATTGCCAAATCAGAAGTG\r\n",
      "example2_hypothetical_protein    CTCGATGTTTTCGTTTTGGGACGCTCCTTACCTGCGTTTTTTATTGCCAAATCAGAAGTG\r\n",
      "example3_hypothetical_protein    CTTGATGTTTTTGTTTTAGGACGTTCCTTACCTGCGTTTTTTATTGCAAAATCAGAAGTA\r\n",
      "\r\n",
      "example1_hypothetical_protein    GCTAATTGGCCTATCCTAGGTCGTTTAGCCAAGATACAAAATACCCTATTTTTTGAACGT\r\n",
      "example2_hypothetical_protein    GCTAATTGGCCAATCTTGGGTAGTTTAGCCAAGATACAAAATACCCTGTTTTTTGAACGT\r\n",
      "example3_hypothetical_protein    GCTAATTGGCCAATTCTGGGCAGTTTAGCTCAAATACAAAATACCCTGTTTTTTGAACGT\r\n",
      "\r\n",
      "example1_hypothetical_protein    AATCGTCAAAAAGTACGTGGTCAGTTAGGCATAATGATAGAGCATTTTAATCAACGGGGA\r\n",
      "example2_hypothetical_protein    AATAGTAAAAAAGTGCGTAGTCAGCTAAGTATTATGACAGAGCATTTTAATCAACAGGGA\r\n",
      "example3_hypothetical_protein    AATAGTAAAAAAGTGCGTGGTCAACTAGGTATTATGACAAAGCATTTTAACCAACAGGGA\r\n",
      "\r\n",
      "example1_hypothetical_protein    AATCTGATTTTATTTCCTGAGGGTACCAGTACCAATGGTGAATATGTCGCTTCTTTTAAA\r\n",
      "example2_hypothetical_protein    AACCTGATTTTATTTCCTGAAGGCACGAGTACAAACGGTGAAAGTGTTGCTCCCTTTAAA\r\n",
      "example3_hypothetical_protein    AATCTGATTCTATTTCCCGAAGGCACAAGTACAAACGGTGAATATGTTGCCCCCTTTAAA\r\n",
      "\r\n",
      "example1_hypothetical_protein    TCCAGTTTATTACAATCTATTGAAGCTACCGAGGAACAGGTACTGATTCAGCCTGTGACG\r\n",
      "example2_hypothetical_protein    TCCAGTTTATTACAATCTGTTGAAGCCGCAGAGGAAGATGTATTTATTCAGCCTGTGGCG\r\n",
      "example3_hypothetical_protein    TCCAGTTTATTACAATCGGTTGAAGTGGCAGAGAAAGATGTTCTTATTCAGCCTGTAACA\r\n",
      "\r\n",
      "example1_hypothetical_protein    ATTGCCTATACGCGTTATAAGAACAAAATGATGGATCAGTCCTTACGTGATAAGTACGCC\r\n",
      "example2_hypothetical_protein    ATTGCTTATACTCGTTATAAGGACAAAATGATGGATCGTGCCTTACGTGATAAATATGCT\r\n",
      "example3_hypothetical_protein    ATTGCGTATACTCGTTATAAGAAGAGAATGATGAATCGATTCTTGCGTGATAAATATGCC\r\n",
      "\r\n",
      "example1_hypothetical_protein    TGGTATGCTGATATGCCTTTCGCATCTCACTTTTTTAATGTTTTAGGGATGGGAGCTGCT\r\n",
      "example2_hypothetical_protein    TGGTATGCTGATATGCCATTTGCACCTCATTTTTTTAGCGCTTTAGGGTTGGGGCCTGCA\r\n",
      "example3_hypothetical_protein    TGGTATGCTGATATGCCTTTTGCATCGCATTTTTTTAGTGCTTTGGGGATGGGACCTGCC\r\n",
      "\r\n",
      "example1_hypothetical_protein    GAAGTAGTTATCACTTATCACCAGCCAATATTACTGAAAGATTTTGTTAATCGAAAAGCC\r\n",
      "example2_hypothetical_protein    GAAGTGGTTATCACTTATCATAAACCGGTATTACTGAAAGACTTTGCTCATCGGAAGGAA\r\n",
      "example3_hypothetical_protein    GAGGTGGTTATCACATATCATAAACCGATATCAATAAAAGACTTTGCTGGCAGAAAATAT\r\n",
      "\r\n",
      "example1_hypothetical_protein    TGTGCTGAGTATTGCCAGCAGCAGATAGCATTAGCTTTGTCAAATGCTTTGCAGGGTGGC\r\n",
      "example2_hypothetical_protein    TGTGCTCAGTATTGTCAGCAACAGATTGCCCTAGCCTTATCAAGTGCTTTGCAGGATAGT\r\n",
      "example3_hypothetical_protein    TGCGCTCAATATTGTCAACAACAAATTGCCTTAACTTTATCGAATTGCTTGCAGGATGAT\r\n",
      "\r\n",
      "example1_hypothetical_protein    AGG\r",
      "\r\n",
      "example2_hypothetical_protein    CAA\r\n",
      "example3_hypothetical_protein    AAA\r\n",
      "\r\n"
     ]
    }
   ],
   "source": [
    "!docker run \\\n",
    "    --rm \\\n",
    "    -v $(pwd)/example/data:/output \\\n",
    "    evanrees/kwanlab:pal2nal \\\n",
    "        pal2nal.pl /output/processed/orgs_yenB.aln /output/processed/orgs_yenB.fna"
   ]
  },
  {
   "cell_type": "code",
   "execution_count": 12,
   "metadata": {},
   "outputs": [
    {
     "name": "stdout",
     "output_type": "stream",
     "text": [
      "                                 M   S   E   L   P   S   N   K   A   V   D   N   I   D   A   S   V   L   A   T\n",
      "example1_hypothetical_protein    ATG AGT GAA TTG CCT TCT AAT AAA GCA GTT GAT AAT ATC GAT GCC TCT GTA TTA GCT ACT\n",
      "                                 M   S   E   S   S   S   N   K   V   V   D   N   V   S   Y   S   V   L   P   T\n",
      "example2_hypothetical_protein    ATG AGT GAA TCG TCT TCT AAT AAA GTG GTT GAT AAT GTC AGT TAT TCT GTA TTA CCC ACT\n",
      "                                 M   N   E   P   S   P   D   K   T   V   D   N   I   S   F   S   E   L   P   V\n",
      "example3_hypothetical_protein    ATG AAT GAA CCC TCT CCT GAT AAA ACG GTT GAT AAT ATA AGC TTT TCT GAG TTG CCC GTT\n",
      "\n",
      "                                 Q   S   P   N   L   S   H   R   L   R   M   L   I   C   T   L   L   L   A   V\n",
      "example1_hypothetical_protein    CAA TCA CCG AAT TTA TCA CAC CGT TTA CGT ATG CTG ATA TGC ACA CTG TTA TTA GCT GTC\n",
      "                                 Q   Q   S   K   L   L   H   S   M   R   T   L   L   S   T   L   L   L   A   I\n",
      "example2_hypothetical_protein    CAG CAG TCA AAG TTA TTG CAC AGT ATG CGT ACG CTT TTA TCC ACA CTA TTA TTA GCT ATC\n",
      "                                 Q   Q   P   S   L   L   H   R   I   R   T   L   V   S   A   L   L   L   A   I\n",
      "example3_hypothetical_protein    CAA CAG CCA AGC CTA CTG CAC CGT ATT CGT ACA CTT GTA TCT GCA CTA TTG TTA GCT ATC\n",
      "\n",
      "                                 W   C   L   V   M   P   L   I   N   L   V   W   R   L   L   H   I   P   Y   L\n",
      "example1_hypothetical_protein    TGG TGT TTG GTG ATG CCA TTG ATT AAT CTA GTC TGG CGT TTG CTT CAT ATC CCA TAC CTG\n",
      "                                 W   C   L   V   M   P   L   I   N   V   V   W   R   L   L   H   I   P   H   L\n",
      "example2_hypothetical_protein    TGG TGT TTG GTG ATG CCA TTA ATT AAT GTA GTC TGG CGT TTG CTT CAT ATA CCG CAT CTT\n",
      "                                 W   C   L   V   M   P   L   V   N   L   V   W   R   L   L   Y   I   P   H   L\n",
      "example3_hypothetical_protein    TGG TGT TTG GTA ATG CCT TTG GTT AAT TTG GTT TGG CGT CTG CTT TAT ATC CCA CAC CTT\n",
      "\n",
      "                                 E   K   C   Y   F   I   F   H   G   G   C   C   W   L   F   N   L   R   C   I\n",
      "example1_hypothetical_protein    GAG AAA TGT TAT TTT ATT TTT CAC GGT GGA TGT TGT TGG CTA TTT AAT TTG CGT TGC ATT\n",
      "                                 E   K   C   Y   F   V   F   H   S   G   C   C   W   L   F   N   L   R   C   I\n",
      "example2_hypothetical_protein    GAA AAG TGT TAT TTT GTT TTT CAT AGT GGG TGT TGT TGG CTA TTT AAT CTA CGT TGC ATT\n",
      "                                 E   K   C   Y   F   I   F   H   T   G   C   C   W   L   F   N   L   R   C   I\n",
      "example3_hypothetical_protein    GAA AAA TGT TAT TTT ATT TTC CAC ACT GGA TGT TGT TGG TTG TTT AAT CTG CGT TGC ATT\n",
      "\n",
      "                                 E   Q   G   K   I   S   T   Q   S   P   T   L   F   L   S   N   H   I   S   Y\n",
      "example1_hypothetical_protein    GAG CAG GGA AAA ATA TCG ACT CAA AGT CCA ACT CTG TTT TTA TCA AAC CAC ATT TCT TAT\n",
      "                                 E   Q   G   E   I   S   T   Q   C   P   T   L   F   L   S   N   H   V   S   Y\n",
      "example2_hypothetical_protein    GAG CAG GGA GAG ATA TCG ACT CAA TGC CCC ACC TTA TTT TTA TCA AAT CAT GTT TCT TAT\n",
      "                                 E   Q   G   N   I   S   T   Q   R   P   T   L   F   L   S   N   H   V   S   Y\n",
      "example3_hypothetical_protein    GAA CAG GGG AAT ATA TCG ACT CAA CGC CCC ACG TTA TTT TTA TCA AAT CAT GTT TCT TAT\n",
      "\n",
      "                                 L   D   V   F   V   L   G   R   S   L   P   A   F   F   I   A   K   S   E   V\n",
      "example1_hypothetical_protein    CTG GAT GTT TTT GTT TTG GGG CGC TCT TTA CCT GCA TTT TTT ATT GCC AAA TCA GAA GTG\n",
      "                                 L   D   V   F   V   L   G   R   S   L   P   A   F   F   I   A   K   S   E   V\n",
      "example2_hypothetical_protein    CTC GAT GTT TTC GTT TTG GGA CGC TCC TTA CCT GCG TTT TTT ATT GCC AAA TCA GAA GTG\n",
      "                                 L   D   V   F   V   L   G   R   S   L   P   A   F   F   I   A   K   S   E   V\n",
      "example3_hypothetical_protein    CTT GAT GTT TTT GTT TTA GGA CGT TCC TTA CCT GCG TTT TTT ATT GCA AAA TCA GAA GTA\n",
      "\n",
      "                                 A   N   W   P   I   L   G   R   L   A   K   I   Q   N   T   L   F   F   E   R\n",
      "example1_hypothetical_protein    GCT AAT TGG CCT ATC CTA GGT CGT TTA GCC AAG ATA CAA AAT ACC CTA TTT TTT GAA CGT\n",
      "                                 A   N   W   P   I   L   G   S   L   A   K   I   Q   N   T   L   F   F   E   R\n",
      "example2_hypothetical_protein    GCT AAT TGG CCA ATC TTG GGT AGT TTA GCC AAG ATA CAA AAT ACC CTG TTT TTT GAA CGT\n",
      "                                 A   N   W   P   I   L   G   S   L   A   Q   I   Q   N   T   L   F   F   E   R\n",
      "example3_hypothetical_protein    GCT AAT TGG CCA ATT CTG GGC AGT TTA GCT CAA ATA CAA AAT ACC CTG TTT TTT GAA CGT\n",
      "\n",
      "                                 N   R   Q   K   V   R   G   Q   L   G   I   M   I   E   H   F   N   Q   R   G\n",
      "example1_hypothetical_protein    AAT CGT CAA AAA GTA CGT GGT CAG TTA GGC ATA ATG ATA GAG CAT TTT AAT CAA CGG GGA\n",
      "                                 N   S   K   K   V   R   S   Q   L   S   I   M   T   E   H   F   N   Q   Q   G\n",
      "example2_hypothetical_protein    AAT AGT AAA AAA GTG CGT AGT CAG CTA AGT ATT ATG ACA GAG CAT TTT AAT CAA CAG GGA\n",
      "                                 N   S   K   K   V   R   G   Q   L   G   I   M   T   K   H   F   N   Q   Q   G\n",
      "example3_hypothetical_protein    AAT AGT AAA AAA GTG CGT GGT CAA CTA GGT ATT ATG ACA AAG CAT TTT AAC CAA CAG GGA\n",
      "\n",
      "                                 N   L   I   L   F   P   E   G   T   S   T   N   G   E   Y   V   A   S   F   K\n",
      "example1_hypothetical_protein    AAT CTG ATT TTA TTT CCT GAG GGT ACC AGT ACC AAT GGT GAA TAT GTC GCT TCT TTT AAA\n",
      "                                 N   L   I   L   F   P   E   G   T   S   T   N   G   E   S   V   A   P   F   K\n",
      "example2_hypothetical_protein    AAC CTG ATT TTA TTT CCT GAA GGC ACG AGT ACA AAC GGT GAA AGT GTT GCT CCC TTT AAA\n",
      "                                 N   L   I   L   F   P   E   G   T   S   T   N   G   E   Y   V   A   P   F   K\n",
      "example3_hypothetical_protein    AAT CTG ATT CTA TTT CCC GAA GGC ACA AGT ACA AAC GGT GAA TAT GTT GCC CCC TTT AAA\n",
      "\n",
      "                                 S   S   L   L   Q   S   I   E   A   T   E   E   Q   V   L   I   Q   P   V   T\n",
      "example1_hypothetical_protein    TCC AGT TTA TTA CAA TCT ATT GAA GCT ACC GAG GAA CAG GTA CTG ATT CAG CCT GTG ACG\n",
      "                                 S   S   L   L   Q   S   V   E   A   A   E   E   D   V   F   I   Q   P   V   A\n",
      "example2_hypothetical_protein    TCC AGT TTA TTA CAA TCT GTT GAA GCC GCA GAG GAA GAT GTA TTT ATT CAG CCT GTG GCG\n",
      "                                 S   S   L   L   Q   S   V   E   V   A   E   K   D   V   L   I   Q   P   V   T\n",
      "example3_hypothetical_protein    TCC AGT TTA TTA CAA TCG GTT GAA GTG GCA GAG AAA GAT GTT CTT ATT CAG CCT GTA ACA\n",
      "\n",
      "                                 I   A   Y   T   R   Y   K   N   K   M   M   D   Q   S   L   R   D   K   Y   A\n",
      "example1_hypothetical_protein    ATT GCC TAT ACG CGT TAT AAG AAC AAA ATG ATG GAT CAG TCC TTA CGT GAT AAG TAC GCC\n",
      "                                 I   A   Y   T   R   Y   K   D   K   M   M   D   R   A   L   R   D   K   Y   A\n",
      "example2_hypothetical_protein    ATT GCT TAT ACT CGT TAT AAG GAC AAA ATG ATG GAT CGT GCC TTA CGT GAT AAA TAT GCT\n",
      "                                 I   A   Y   T   R   Y   K   K   R   M   M   N   R   F   L   R   D   K   Y   A\n",
      "example3_hypothetical_protein    ATT GCG TAT ACT CGT TAT AAG AAG AGA ATG ATG AAT CGA TTC TTG CGT GAT AAA TAT GCC\n",
      "\n",
      "                                 W   Y   A   D   M   P   F   A   S   H   F   F   N   V   L   G   M   G   A   A\n",
      "example1_hypothetical_protein    TGG TAT GCT GAT ATG CCT TTC GCA TCT CAC TTT TTT AAT GTT TTA GGG ATG GGA GCT GCT\n",
      "                                 W   Y   A   D   M   P   F   A   P   H   F   F   S   A   L   G   L   G   P   A\n",
      "example2_hypothetical_protein    TGG TAT GCT GAT ATG CCA TTT GCA CCT CAT TTT TTT AGC GCT TTA GGG TTG GGG CCT GCA\n",
      "                                 W   Y   A   D   M   P   F   A   S   H   F   F   S   A   L   G   M   G   P   A\n",
      "example3_hypothetical_protein    TGG TAT GCT GAT ATG CCT TTT GCA TCG CAT TTT TTT AGT GCT TTG GGG ATG GGA CCT GCC\n",
      "\n",
      "                                 E   V   V   I   T   Y   H   Q   P   I   L   L   K   D   F   V   N   R   K   A\n",
      "example1_hypothetical_protein    GAA GTA GTT ATC ACT TAT CAC CAG CCA ATA TTA CTG AAA GAT TTT GTT AAT CGA AAA GCC\n",
      "                                 E   V   V   I   T   Y   H   K   P   V   L   L   K   D   F   A   H   R   K   E\n",
      "example2_hypothetical_protein    GAA GTG GTT ATC ACT TAT CAT AAA CCG GTA TTA CTG AAA GAC TTT GCT CAT CGG AAG GAA\n",
      "                                 E   V   V   I   T   Y   H   K   P   I   S   I   K   D   F   A   G   R   K   Y\n",
      "example3_hypothetical_protein    GAG GTG GTT ATC ACA TAT CAT AAA CCG ATA TCA ATA AAA GAC TTT GCT GGC AGA AAA TAT\n",
      "\n",
      "                                 C   A   E   Y   C   Q   Q   Q   I   A   L   A   L   S   N   A   L   Q   G   G\n",
      "example1_hypothetical_protein    TGT GCT GAG TAT TGC CAG CAG CAG ATA GCA TTA GCT TTG TCA AAT GCT TTG CAG GGT GGC\n",
      "                                 C   A   Q   Y   C   Q   Q   Q   I   A   L   A   L   S   S   A   L   Q   D   S\n",
      "example2_hypothetical_protein    TGT GCT CAG TAT TGT CAG CAA CAG ATT GCC CTA GCC TTA TCA AGT GCT TTG CAG GAT AGT\n",
      "                                 C   A   Q   Y   C   Q   Q   Q   I   A   L   T   L   S   N   C   L   Q   D   D\n",
      "example3_hypothetical_protein    TGC GCT CAA TAT TGT CAA CAA CAA ATT GCC TTA ACT TTA TCG AAT TGC TTG CAG GAT GAT\n",
      "\n",
      "                                 R\n",
      "example1_hypothetical_protein    AGG\n",
      "                                 Q\n",
      "example2_hypothetical_protein    CAA\n",
      "                                 K\n",
      "example3_hypothetical_protein    AAA\n",
      "\n"
     ]
    }
   ],
   "source": [
    "!docker run \\\n",
    "    --rm \\\n",
    "    -v $(pwd)/example/data:/output \\\n",
    "    evanrees/kwanlab:pal2nal \\\n",
    "        pal2nal.pl /output/processed/orgs_yenB.aln \\\n",
    "        /output/processed/orgs_yenB.fna \\\n",
    "        -output codon"
   ]
  },
  {
   "cell_type": "code",
   "execution_count": 17,
   "metadata": {},
   "outputs": [
    {
     "name": "stdout",
     "output_type": "stream",
     "text": [
      "#------------------------------------------------------------------------#\r\n",
      "#  Input files:  /output/processed/orgs_yenB.aln /output/processed/orgs_yenB.fna\r\n",
      "#  Codontable 11 is used\r\n",
      "#------------------------------------------------------------------------#\r\n",
      "\r\n"
     ]
    }
   ],
   "source": [
    "!docker run \\\n",
    "    --rm \\\n",
    "    -v $(pwd)/example/data:/output \\\n",
    "    evanrees/kwanlab:pal2nal \\\n",
    "        pal2nal.pl /output/processed/orgs_yenB.aln /output/processed/orgs_yenB.fna \\\n",
    "        -output paml \\\n",
    "        -nogap \\\n",
    "        -codontable 11 \\\n",
    "        > example/orgs_yenB.paml\n",
    "        #We have now exited the docker container directing the stdout to the localhost path "
   ]
  },
  {
   "cell_type": "code",
   "execution_count": 36,
   "metadata": {},
   "outputs": [
    {
     "name": "stdout",
     "output_type": "stream",
     "text": [
      "\u001b[1m\u001b[36mdata\u001b[m\u001b[m      \u001b[31mtest.cnt\u001b[m\u001b[m  test.tree\r\n"
     ]
    }
   ],
   "source": [
    "# Let's check to make sure we have the file we want\n",
    "!ls example/"
   ]
  },
  {
   "cell_type": "code",
   "execution_count": 20,
   "metadata": {},
   "outputs": [
    {
     "name": "stdout",
     "output_type": "stream",
     "text": [
      "      seqfile = test.codon\r\n",
      "     treefile = test.tree\r\n",
      "      outfile = test.codeml\r\n",
      "\r\n",
      "        noisy = 0   * 0,1,2,3,9: how much rubbish on the screen\r\n",
      "      verbose = 0   * 1: detailed output, 0: concise output\r\n",
      "      runmode = -2  * 0: user tree;  1: semi-automatic;  2: automatic\r\n",
      "                    * 3: StepwiseAddition; (4,5):PerturbationNNI; -2: pairwise\r\n",
      "\r\n",
      "    cleandata = 1   * \"I added on 07/07/2004\" Mikita Suyama\r\n",
      "\r\n",
      "      seqtype = 1   * 1:codons; 2:AAs; 3:codons-->AAs\r\n",
      "    CodonFreq = 2   * 0:1/61 each, 1:F1X4, 2:F3X4, 3:codon table\r\n",
      "        model = 2\r\n",
      "                    * models for codons:\r\n",
      "                        * 0:one, 1:b, 2:2 or more dN/dS ratios for branches\r\n",
      "\r\n",
      "      NSsites = 0   * dN/dS among sites. 0:no variation, 1:neutral, 2:positive\r\n",
      "        icode = 0   * 0:standard genetic code; 1:mammalian mt; 2-10:see below\r\n",
      "        Mgene = 0   * 0:rates, 1:separate; 2:pi, 3:kappa, 4:all\r\n",
      "\r\n",
      "    fix_kappa = 0   * 1: kappa fixed, 0: kappa to be estimated\r\n",
      "        kappa = 2   * initial or fixed kappa\r",
      "\r\n",
      "    fix_omega = 0   * 1: omega or omega_1 fixed, 0: estimate\r\n",
      "        omega = 1   * initial or fixed omega, for codons or codon-transltd AAs\r\n",
      "\r\n",
      "    fix_alpha = 1   * 0: estimate gamma shape parameter; 1: fix it at alpha\r\n",
      "        alpha = .0  * initial or fixed alpha, 0:infinity (constant rate)\r\n",
      "       Malpha = 0   * different alphas for genes\r\n",
      "        ncatG = 4   * # of categories in the dG or AdG models of rates\r\n",
      "\r\n",
      "        clock = 0   * 0: no clock, unrooted tree, 1: clock, rooted tree\r\n",
      "        getSE = 0   * 0: don't want them, 1: want S.E.s of estimates\r\n",
      " RateAncestor = 0   * (1/0): rates (alpha>0) or ancestral states (alpha=0)\r\n",
      "       method = 0   * 0: simultaneous; 1: one branch at a time\r\n"
     ]
    }
   ],
   "source": [
    "!cat example/test.cnt"
   ]
  },
  {
   "cell_type": "markdown",
   "metadata": {},
   "source": [
    "### Running `codeml` to determine dN/dS:\n",
    "\n",
    "`codeml` will use a file in which you may specify the parameters..\n",
    "We will take the more difficult approach here... Because we want to be able to extend this analysis to an entire genome's protein set.\n",
    "\n",
    "**Note:** Parameters for `codeml` are prescribed in `example/test.cnt`\n",
    "\n",
    "#### These are the first few lines in the test.cnt file that need to be altered.\n",
    "\n",
    "- seqfile = test.codon\n",
    "- treefile = test.tree\n",
    "- outfile = test.codeml"
   ]
  },
  {
   "cell_type": "code",
   "execution_count": 21,
   "metadata": {
    "collapsed": true
   },
   "outputs": [],
   "source": [
    "import re\n",
    "\n",
    "outfile = open('example/yenB.cnt', 'w')\n",
    "with open('example/test.cnt') as fh:\n",
    "    for line in fh:\n",
    "        match = re.search(r'seqfile = test.codon|outfile = test.codeml|treefile = test.tree',line)\n",
    "        if match:\n",
    "            line = line.replace('test.codon','orgs_yenB.paml')\n",
    "            line = line.replace('test.tree','orgs_yenB.tree')\n",
    "            line = line.replace('test.codeml','orgs_yenB.codeml')\n",
    "        outfile.write(line)\n",
    "            \n",
    "outfile.close()            "
   ]
  },
  {
   "cell_type": "code",
   "execution_count": 22,
   "metadata": {},
   "outputs": [
    {
     "name": "stdout",
     "output_type": "stream",
     "text": [
      "      seqfile = orgs_yenB.paml\r\n",
      "     treefile = orgs_yenB.tree\r\n",
      "      outfile = orgs_yenB.codeml\r\n",
      "\r\n",
      "        noisy = 0   * 0,1,2,3,9: how much rubbish on the screen\r\n",
      "      verbose = 0   * 1: detailed output, 0: concise output\r\n",
      "      runmode = -2  * 0: user tree;  1: semi-automatic;  2: automatic\r\n",
      "                    * 3: StepwiseAddition; (4,5):PerturbationNNI; -2: pairwise\r\n",
      "\r\n",
      "    cleandata = 1   * \"I added on 07/07/2004\" Mikita Suyama\r\n"
     ]
    }
   ],
   "source": [
    "# Let's check that we have properly configured our file...\n",
    "!head example/yenB.cnt"
   ]
  },
  {
   "cell_type": "markdown",
   "metadata": {
    "collapsed": true
   },
   "source": [
    "### Constructing the required tree file:\n",
    "\n",
    "Now that we have our properly formatted config file: `example/yenB.cnt`\n",
    "we only need our tree file as input and we can finally run `codeml`.\n",
    "\n",
    "The tree file can be simple if we are simply doing a comparison between already identified homologous genes.\n",
    "\n",
    "The tree file will take the format of `(gene_of_interest, arbitrary_gene_name);`.\n",
    "\n",
    "As an example, let's look at the test tree file `example/test.tree`."
   ]
  },
  {
   "cell_type": "code",
   "execution_count": 23,
   "metadata": {
    "scrolled": true
   },
   "outputs": [
    {
     "name": "stdout",
     "output_type": "stream",
     "text": [
      "(queryGene,ArbitraryGeneName);\r\n"
     ]
    }
   ],
   "source": [
    "!cat example/test.tree"
   ]
  },
  {
   "cell_type": "markdown",
   "metadata": {
    "collapsed": true
   },
   "source": [
    "As you can see the tree file is simple!\n",
    "\n",
    "So let's simply replace the query gene value with our gene of interest _(yenB)_."
   ]
  },
  {
   "cell_type": "code",
   "execution_count": 24,
   "metadata": {
    "collapsed": true
   },
   "outputs": [],
   "source": [
    "import os\n",
    "\n",
    "InTreeFilePath = os.path.abspath('example/test.tree')\n",
    "# providing the abspath method from os.path gives us the absolute path to the tree file...\n",
    "# This can come in handy when operating on a remote file system or trying to extend your program to other users.\n",
    "# Name the file you want to write out..\n",
    "OutTreeFilePath = 'example/yenB.tree'\n",
    "bname, ext = os.path.splitext(os.path.basename(OutTreeFilePath))\n",
    "# Open the file for writing...\n",
    "outfile = open(OutTreeFilePath, 'w')\n",
    "# Open the test.tree file for string replacement and writing to yenB.tree\n",
    "with open(InTreeFilePath) as fh:\n",
    "    for line in fh:\n",
    "        line = line.replace('queryGene', bname)\n",
    "        outfile.write(line)\n",
    "\n",
    "outfile.close()"
   ]
  },
  {
   "cell_type": "code",
   "execution_count": 25,
   "metadata": {},
   "outputs": [
    {
     "name": "stdout",
     "output_type": "stream",
     "text": [
      "(yenB,ArbitraryGeneName);\r\n"
     ]
    }
   ],
   "source": [
    "!cat example/yenB.tree"
   ]
  },
  {
   "cell_type": "markdown",
   "metadata": {},
   "source": [
    "### Perform codeml dN/dS calcuations for our gene of interest\n",
    "\n",
    "We now have our gene's config file `yenB.cnt` and the corresponding tree file `yenB.tree`.\n",
    "\n",
    "Once again let's run `codeml` using docker..."
   ]
  },
  {
   "cell_type": "code",
   "execution_count": 28,
   "metadata": {},
   "outputs": [
    {
     "name": "stdout",
     "output_type": "stream",
     "text": [
      "CODONML in paml version 4.9i, September 2018\r\n",
      "\r\n"
     ]
    }
   ],
   "source": [
    "!docker run \\\n",
    "    --rm \\\n",
    "    -w /output \\\n",
    "    -v $(pwd)/example:/output:rw \\\n",
    "            evanrees/kwanlab:pal2nal codeml yenB.cnt"
   ]
  },
  {
   "cell_type": "code",
   "execution_count": 29,
   "metadata": {},
   "outputs": [
    {
     "name": "stdout",
     "output_type": "stream",
     "text": [
      "2ML.dN           2NG.dS           orgs_yenB.paml   \u001b[31mtest.cnt\u001b[m\u001b[m\r\n",
      "2ML.dS           2NG.t            rst              test.tree\r\n",
      "2ML.t            \u001b[1m\u001b[36mdata\u001b[m\u001b[m             rst1             yenB.cnt\r\n",
      "2NG.dN           orgs_yenB.codeml rub              yenB.tree\r\n"
     ]
    }
   ],
   "source": [
    "#Let's look through our directory and see what files codeml produced\n",
    "!ls example/"
   ]
  },
  {
   "cell_type": "markdown",
   "metadata": {},
   "source": [
    "As you can see, there are a number of files codeml has produced. notice we now have a file with the _codeml_ suffix and file with our dN/dS suffixes!"
   ]
  },
  {
   "cell_type": "code",
   "execution_count": 30,
   "metadata": {},
   "outputs": [
    {
     "name": "stdout",
     "output_type": "stream",
     "text": [
      "CODONML (in paml version 4.9i, September 2018)  orgs_yenB.paml\r\n",
      "Model: several dN/dS ratios for branches, \r\n",
      "Codon frequency model: F3x4\r\n",
      "ns =   3  ls = 281\r\n",
      "\r\n",
      "Codon usage in sequences\r\n",
      "--------------------------------------------------------------------------------------\r\n",
      "Phe TTT  15  16  16 | Ser TCT   7   5   4 | Tyr TAT   8   9  11 | Cys TGT   5   6   5\r\n",
      "    TTC   1   1   2 |     TCC   2   3   2 |     TAC   2   0   0 |     TGC   3   2   3\r\n",
      "Leu TTA  16  17  10 |     TCA   5   4   3 | *** TAA   0   0   0 | *** TGA   0   0   0\r\n",
      "    TTG   8   7   9 |     TCG   1   2   4 |     TAG   0   0   0 | Trp TGG   5   5   5\r\n",
      "--------------------------------------------------------------------------------------\r\n",
      "Leu CTT   1   3   5 | Pro CCT   6   5   6 | His CAT   2   8   4 | Arg CGT  10   8   9\r\n",
      "    CTC   0   1   0 |     CCC   0   3   5 |     CAC   5   1   3 |     CGC   1   1   1\r\n",
      "    CTA   4   5   4 |     CCA   4   3   3 | Gln CAA   6   6  11 |     CGA   1   0   1\r\n",
      "    CTG   8   3   6 |     CCG   1   2   1 |     CAG  10  10   5 |     CGG   1   1   0\r\n",
      "--------------------------------------------------------------------------------------\r\n",
      "Ile ATT   9   8  10 | Thr ACT   4   4   4 | Asn AAT  14   9  12 | Ser AGT   4  13   5\r\n",
      "    ATC   4   3   3 |     ACC   4   2   1 |     AAC   2   2   2 |     AGC   0   1   2\r\n",
      "    ATA   7   3   5 |     ACA   1   3   6 | Lys AAA   9   9  12 | Arg AGA   0   0   2\r\n",
      "Met ATG   8   7   7 |     ACG   2   2   2 |     AAG   3   5   3 |     AGG   1   0   0\r\n",
      "--------------------------------------------------------------------------------------\r\n",
      "Val GTT   6   8  11 | Ala GCT  11  10   7 | Asp GAT   7   7   8 | Gly GGT   6   2   3\r\n",
      "    GTC   3   2   0 |     GCC   6   6   4 |     GAC   0   2   1 |     GGC   2   1   3\r\n",
      "    GTA   4   4   4 |     GCA   4   3   4 | Glu GAA   7  10   8 |     GGA   4   3   4\r\n",
      "    GTG   3   6   3 |     GCG   0   2   2 |     GAG   6   4   3 |     GGG   2   3   2\r\n",
      "--------------------------------------------------------------------------------------\r\n",
      "\r\n",
      "Codon position x base (3x4) table for each sequence.\r\n",
      "\r\n",
      "#1: example1_hypothetical_protein\r\n",
      "position  1:    T:0.27758    C:0.21352    A:0.25623    G:0.25267\r\n",
      "position  2:    T:0.34520    C:0.20641    A:0.28826    G:0.16014\r\n",
      "position  3:    T:0.40925    C:0.12456    A:0.25623    G:0.20996\r\n",
      "Average         T:0.34401    C:0.18149    A:0.26690    G:0.20759\r\n",
      "\r\n",
      "#2: example2_hypothetical_protein\r\n",
      "position  1:    T:0.27402    C:0.21352    A:0.25267    G:0.25979\r\n",
      "position  2:    T:0.33452    C:0.20996    A:0.29181    G:0.16370\r\n",
      "position  3:    T:0.43060    C:0.11032    A:0.24911    G:0.20996\r\n",
      "Average         T:0.34638    C:0.17794    A:0.26453    G:0.21115\r\n",
      "\r\n",
      "#3: example3_hypothetical_protein\r\n",
      "position  1:    T:0.26335    C:0.22776    A:0.27046    G:0.23843\r\n",
      "position  2:    T:0.33808    C:0.20641    A:0.29537    G:0.16014\r\n",
      "position  3:    T:0.42705    C:0.11388    A:0.27402    G:0.18505\r\n",
      "Average         T:0.34282    C:0.18268    A:0.27995    G:0.19454\r\n",
      "\r\n",
      "Sums of codon usage counts\r\n",
      "------------------------------------------------------------------------------\r\n",
      "Phe F TTT      47 | Ser S TCT      16 | Tyr Y TAT      28 | Cys C TGT      16\r\n",
      "      TTC       4 |       TCC       7 |       TAC       2 |       TGC       8\r\n",
      "Leu L TTA      43 |       TCA      12 | *** * TAA       0 | *** * TGA       0\r\n",
      "      TTG      24 |       TCG       7 |       TAG       0 | Trp W TGG      15\r\n",
      "------------------------------------------------------------------------------\r\n",
      "Leu L CTT       9 | Pro P CCT      17 | His H CAT      14 | Arg R CGT      27\r\n",
      "      CTC       1 |       CCC       8 |       CAC       9 |       CGC       3\r\n",
      "      CTA      13 |       CCA      10 | Gln Q CAA      23 |       CGA       2\r\n",
      "      CTG      17 |       CCG       4 |       CAG      25 |       CGG       2\r\n",
      "------------------------------------------------------------------------------\r\n",
      "Ile I ATT      27 | Thr T ACT      12 | Asn N AAT      35 | Ser S AGT      22\r\n",
      "      ATC      10 |       ACC       7 |       AAC       6 |       AGC       3\r\n",
      "      ATA      15 |       ACA      10 | Lys K AAA      30 | Arg R AGA       2\r\n",
      "Met M ATG      22 |       ACG       6 |       AAG      11 |       AGG       1\r\n",
      "------------------------------------------------------------------------------\r\n",
      "Val V GTT      25 | Ala A GCT      28 | Asp D GAT      22 | Gly G GGT      11\r\n",
      "      GTC       5 |       GCC      16 |       GAC       3 |       GGC       6\r\n",
      "      GTA      12 |       GCA      11 | Glu E GAA      25 |       GGA      11\r\n",
      "      GTG      12 |       GCG       4 |       GAG      13 |       GGG       7\r\n",
      "------------------------------------------------------------------------------\r\n",
      "\r\n",
      "\r\n",
      "Codon position x base (3x4) table, overall\r\n",
      "\r\n",
      "position  1:    T:0.27165    C:0.21827    A:0.25979    G:0.25030\r\n",
      "position  2:    T:0.33926    C:0.20759    A:0.29181    G:0.16133\r\n",
      "position  3:    T:0.42230    C:0.11625    A:0.25979    G:0.20166\r\n",
      "Average         T:0.34440    C:0.18070    A:0.27046    G:0.20443\r\n",
      "\r\n",
      "\r\n",
      "Nei & Gojobori 1986. dN/dS (dN, dS)\r\n",
      "(Note: This matrix is not used in later ML. analysis.\r\n",
      "Use runmode = -2 for ML pairwise comparison.)\r\n",
      "\r\n",
      "example1_hypothetical_protein\r\n",
      "example2_hypothetical_protein 0.1672 (0.1036 0.6198)\r\n",
      "example3_hypothetical_protein 0.1086 (0.1200 1.1048) 0.1626 (0.0955 0.5870)\r\n",
      "\r\n",
      "pairwise comparison, codon frequencies: F3x4.\r\n",
      "\r\n",
      "\r\n",
      "2 (example2_hypothetical_protein) ... 1 (example1_hypothetical_protein)\r\n",
      "lnL =-1590.042560\r\n",
      "  0.72048  4.37144  0.16762\r\n",
      "\r\n",
      "t= 0.7205  S=   203.0  N=   640.0  dN/dS=  0.1676  dN = 0.1094  dS = 0.6526\r\n",
      "\r\n",
      "\r\n",
      "3 (example3_hypothetical_protein) ... 1 (example1_hypothetical_protein)\r\n",
      "lnL =-1633.051417\r\n",
      "  1.30669  6.27019  0.09460\r\n",
      "\r\n",
      "t= 1.3067  S=   211.2  N=   631.8  dN/dS=  0.0946  dN = 0.1282  dS = 1.3552\r\n",
      "\r\n",
      "\r\n",
      "3 (example3_hypothetical_protein) ... 2 (example2_hypothetical_protein)\r\n",
      "lnL =-1556.493546\r\n",
      "  0.69577  5.18298  0.15659\r\n",
      "\r\n",
      "t= 0.6958  S=   200.1  N=   642.9  dN/dS=  0.1566  dN = 0.1018  dS = 0.6500\r\n"
     ]
    }
   ],
   "source": [
    "!cat example/orgs_yenB.codeml"
   ]
  },
  {
   "cell_type": "markdown",
   "metadata": {},
   "source": [
    "## Woah! \n",
    "\n",
    "check it out, we have our dN/dS values in our `orgs_yenB.codeml` file! \n",
    "\n",
    "So... we're finished right? Not quite! We want to make this extensible across a whole genome set!\n",
    "\n",
    "So we will need to grab these values for each comparison and generate our own table!\n",
    "\n",
    "Let's make this happen:"
   ]
  },
  {
   "cell_type": "markdown",
   "metadata": {},
   "source": [
    "### Now let us (hypothetically) collate every `*.codeml` file into a table\n",
    "\n",
    "If you inspect the `*.codeml` file, you may notice two things that are important for collating our data.\n",
    "\n",
    "1. There is a line containing the compared genes\n",
    "2. there is a line containing the associated dNdS values.\n",
    "\n",
    "Let's parse these values and write to a table!"
   ]
  },
  {
   "cell_type": "code",
   "execution_count": 31,
   "metadata": {},
   "outputs": [
    {
     "name": "stdout",
     "output_type": "stream",
     "text": [
      "Num *.codeml files: 1\n",
      "['/Users/rees/Wisc/COMBEE/PythonStudyGroup/2019Spring/mar28/example/orgs_yenB.codeml']\n"
     ]
    }
   ],
   "source": [
    "from glob import glob\n",
    "#Glob is going to grab all of the *codeml files we need!\n",
    "import re\n",
    "import os\n",
    "import pprint\n",
    "\n",
    "#Grab our codeml files\n",
    "codeml_fpaths = [os.path.abspath(fp) for fp in glob('example/*.codeml')]\n",
    "print('Num *.codeml files: {}'.format(len(codeml_fpaths)))\n",
    "print(codeml_fpaths)"
   ]
  },
  {
   "cell_type": "code",
   "execution_count": 32,
   "metadata": {},
   "outputs": [
    {
     "name": "stdout",
     "output_type": "stream",
     "text": [
      "0 CODONML (in paml version 4.9i, September 2018)  orgs_yenB.paml\n",
      "\n",
      "1 Model: several dN/dS ratios for branches, \n",
      "\n",
      "2 Codon frequency model: F3x4\n",
      "\n",
      "3 ns =   3  ls = 281\n",
      "\n",
      "4 \n",
      "\n",
      "5 Codon usage in sequences\n",
      "\n",
      "6 --------------------------------------------------------------------------------------\n",
      "\n",
      "7 Phe TTT  15  16  16 | Ser TCT   7   5   4 | Tyr TAT   8   9  11 | Cys TGT   5   6   5\n",
      "\n",
      "8     TTC   1   1   2 |     TCC   2   3   2 |     TAC   2   0   0 |     TGC   3   2   3\n",
      "\n",
      "9 Leu TTA  16  17  10 |     TCA   5   4   3 | *** TAA   0   0   0 | *** TGA   0   0   0\n",
      "\n",
      "10     TTG   8   7   9 |     TCG   1   2   4 |     TAG   0   0   0 | Trp TGG   5   5   5\n",
      "\n",
      "11 --------------------------------------------------------------------------------------\n",
      "\n",
      "12 Leu CTT   1   3   5 | Pro CCT   6   5   6 | His CAT   2   8   4 | Arg CGT  10   8   9\n",
      "\n",
      "13     CTC   0   1   0 |     CCC   0   3   5 |     CAC   5   1   3 |     CGC   1   1   1\n",
      "\n",
      "14     CTA   4   5   4 |     CCA   4   3   3 | Gln CAA   6   6  11 |     CGA   1   0   1\n",
      "\n",
      "15     CTG   8   3   6 |     CCG   1   2   1 |     CAG  10  10   5 |     CGG   1   1   0\n",
      "\n",
      "16 --------------------------------------------------------------------------------------\n",
      "\n",
      "17 Ile ATT   9   8  10 | Thr ACT   4   4   4 | Asn AAT  14   9  12 | Ser AGT   4  13   5\n",
      "\n",
      "18     ATC   4   3   3 |     ACC   4   2   1 |     AAC   2   2   2 |     AGC   0   1   2\n",
      "\n",
      "19     ATA   7   3   5 |     ACA   1   3   6 | Lys AAA   9   9  12 | Arg AGA   0   0   2\n",
      "\n",
      "20 Met ATG   8   7   7 |     ACG   2   2   2 |     AAG   3   5   3 |     AGG   1   0   0\n",
      "\n",
      "21 --------------------------------------------------------------------------------------\n",
      "\n",
      "22 Val GTT   6   8  11 | Ala GCT  11  10   7 | Asp GAT   7   7   8 | Gly GGT   6   2   3\n",
      "\n",
      "23     GTC   3   2   0 |     GCC   6   6   4 |     GAC   0   2   1 |     GGC   2   1   3\n",
      "\n",
      "24     GTA   4   4   4 |     GCA   4   3   4 | Glu GAA   7  10   8 |     GGA   4   3   4\n",
      "\n",
      "25     GTG   3   6   3 |     GCG   0   2   2 |     GAG   6   4   3 |     GGG   2   3   2\n",
      "\n",
      "26 --------------------------------------------------------------------------------------\n",
      "\n",
      "27 \n",
      "\n",
      "28 Codon position x base (3x4) table for each sequence.\n",
      "\n",
      "29 \n",
      "\n",
      "30 #1: example1_hypothetical_protein\n",
      "\n",
      "31 position  1:    T:0.27758    C:0.21352    A:0.25623    G:0.25267\n",
      "\n",
      "32 position  2:    T:0.34520    C:0.20641    A:0.28826    G:0.16014\n",
      "\n",
      "33 position  3:    T:0.40925    C:0.12456    A:0.25623    G:0.20996\n",
      "\n",
      "34 Average         T:0.34401    C:0.18149    A:0.26690    G:0.20759\n",
      "\n",
      "35 \n",
      "\n",
      "36 #2: example2_hypothetical_protein\n",
      "\n",
      "37 position  1:    T:0.27402    C:0.21352    A:0.25267    G:0.25979\n",
      "\n",
      "38 position  2:    T:0.33452    C:0.20996    A:0.29181    G:0.16370\n",
      "\n",
      "39 position  3:    T:0.43060    C:0.11032    A:0.24911    G:0.20996\n",
      "\n",
      "40 Average         T:0.34638    C:0.17794    A:0.26453    G:0.21115\n",
      "\n",
      "41 \n",
      "\n",
      "42 #3: example3_hypothetical_protein\n",
      "\n",
      "43 position  1:    T:0.26335    C:0.22776    A:0.27046    G:0.23843\n",
      "\n",
      "44 position  2:    T:0.33808    C:0.20641    A:0.29537    G:0.16014\n",
      "\n",
      "45 position  3:    T:0.42705    C:0.11388    A:0.27402    G:0.18505\n",
      "\n",
      "46 Average         T:0.34282    C:0.18268    A:0.27995    G:0.19454\n",
      "\n",
      "47 \n",
      "\n",
      "48 Sums of codon usage counts\n",
      "\n",
      "49 ------------------------------------------------------------------------------\n",
      "\n",
      "50 Phe F TTT      47 | Ser S TCT      16 | Tyr Y TAT      28 | Cys C TGT      16\n",
      "\n",
      "51       TTC       4 |       TCC       7 |       TAC       2 |       TGC       8\n",
      "\n",
      "52 Leu L TTA      43 |       TCA      12 | *** * TAA       0 | *** * TGA       0\n",
      "\n",
      "53       TTG      24 |       TCG       7 |       TAG       0 | Trp W TGG      15\n",
      "\n",
      "54 ------------------------------------------------------------------------------\n",
      "\n",
      "55 Leu L CTT       9 | Pro P CCT      17 | His H CAT      14 | Arg R CGT      27\n",
      "\n",
      "56       CTC       1 |       CCC       8 |       CAC       9 |       CGC       3\n",
      "\n",
      "57       CTA      13 |       CCA      10 | Gln Q CAA      23 |       CGA       2\n",
      "\n",
      "58       CTG      17 |       CCG       4 |       CAG      25 |       CGG       2\n",
      "\n",
      "59 ------------------------------------------------------------------------------\n",
      "\n",
      "60 Ile I ATT      27 | Thr T ACT      12 | Asn N AAT      35 | Ser S AGT      22\n",
      "\n",
      "61       ATC      10 |       ACC       7 |       AAC       6 |       AGC       3\n",
      "\n",
      "62       ATA      15 |       ACA      10 | Lys K AAA      30 | Arg R AGA       2\n",
      "\n",
      "63 Met M ATG      22 |       ACG       6 |       AAG      11 |       AGG       1\n",
      "\n",
      "64 ------------------------------------------------------------------------------\n",
      "\n",
      "65 Val V GTT      25 | Ala A GCT      28 | Asp D GAT      22 | Gly G GGT      11\n",
      "\n",
      "66       GTC       5 |       GCC      16 |       GAC       3 |       GGC       6\n",
      "\n",
      "67       GTA      12 |       GCA      11 | Glu E GAA      25 |       GGA      11\n",
      "\n",
      "68       GTG      12 |       GCG       4 |       GAG      13 |       GGG       7\n",
      "\n",
      "69 ------------------------------------------------------------------------------\n",
      "\n",
      "70 \n",
      "\n",
      "71 \n",
      "\n",
      "72 Codon position x base (3x4) table, overall\n",
      "\n",
      "73 \n",
      "\n",
      "74 position  1:    T:0.27165    C:0.21827    A:0.25979    G:0.25030\n",
      "\n",
      "75 position  2:    T:0.33926    C:0.20759    A:0.29181    G:0.16133\n",
      "\n",
      "76 position  3:    T:0.42230    C:0.11625    A:0.25979    G:0.20166\n",
      "\n",
      "77 Average         T:0.34440    C:0.18070    A:0.27046    G:0.20443\n",
      "\n",
      "78 \n",
      "\n",
      "79 \n",
      "\n",
      "80 Nei & Gojobori 1986. dN/dS (dN, dS)\n",
      "\n",
      "81 (Note: This matrix is not used in later ML. analysis.\n",
      "\n",
      "82 Use runmode = -2 for ML pairwise comparison.)\n",
      "\n",
      "83 \n",
      "\n",
      "84 example1_hypothetical_protein\n",
      "\n",
      "85 example2_hypothetical_protein 0.1672 (0.1036 0.6198)\n",
      "\n",
      "86 example3_hypothetical_protein 0.1086 (0.1200 1.1048) 0.1626 (0.0955 0.5870)\n",
      "\n",
      "87 \n",
      "\n",
      "88 pairwise comparison, codon frequencies: F3x4.\n",
      "\n",
      "89 \n",
      "\n",
      "90 \n",
      "\n",
      "91 2 (example2_hypothetical_protein) ... 1 (example1_hypothetical_protein)\n",
      "\n",
      "92 lnL =-1590.042560\n",
      "\n",
      "93   0.72048  4.37144  0.16762\n",
      "\n",
      "94 \n",
      "\n",
      "95 t= 0.7205  S=   203.0  N=   640.0  dN/dS=  0.1676  dN = 0.1094  dS = 0.6526\n",
      "\n",
      "96 \n",
      "\n",
      "97 \n",
      "\n",
      "98 3 (example3_hypothetical_protein) ... 1 (example1_hypothetical_protein)\n",
      "\n",
      "99 lnL =-1633.051417\n",
      "\n",
      "100   1.30669  6.27019  0.09460\n",
      "\n",
      "101 \n",
      "\n",
      "102 t= 1.3067  S=   211.2  N=   631.8  dN/dS=  0.0946  dN = 0.1282  dS = 1.3552\n",
      "\n",
      "103 \n",
      "\n",
      "104 \n",
      "\n",
      "105 3 (example3_hypothetical_protein) ... 2 (example2_hypothetical_protein)\n",
      "\n",
      "106 lnL =-1556.493546\n",
      "\n",
      "107   0.69577  5.18298  0.15659\n",
      "\n",
      "108 \n",
      "\n",
      "109 t= 0.6958  S=   200.1  N=   642.9  dN/dS=  0.1566  dN = 0.1018  dS = 0.6500\n",
      "\n"
     ]
    }
   ],
   "source": [
    "tab_fpath = 'example/genomes_dnds_analysis.tsv'\n",
    "\n",
    "for fp in codeml_fpaths:\n",
    "    with open(fp) as fh:\n",
    "        for index,line in enumerate(fh):\n",
    "            print(index, line)\n",
    "            # index value from genes noted for pairwise comparison is 4 lines following\n",
    "            # i.e. dN/dS values 4 after this line"
   ]
  },
  {
   "cell_type": "code",
   "execution_count": 34,
   "metadata": {},
   "outputs": [
    {
     "name": "stdout",
     "output_type": "stream",
     "text": [
      "dict_keys(['example1_hypothetical_protein', 'example2_hypothetical_protein', 'example3_hypothetical_protein'])\n",
      "{'example1_hypothetical_protein': SeqRecord(seq=Seq('MSELPSNKAVDNIDASVLATQSPNLSHRLRMLICTLLLAVWCLVMPLINLVWRL...GGR', SingleLetterAlphabet()), id='example1_hypothetical_protein', name='example1_hypothetical_protein', description='example1_hypothetical_protein', dbxrefs=[]), 'example2_hypothetical_protein': SeqRecord(seq=Seq('MSESSSNKVVDNVSYSVLPTQQSKLLHSMRTLLSTLLLAIWCLVMPLINVVWRL...DSQ', SingleLetterAlphabet()), id='example2_hypothetical_protein', name='example2_hypothetical_protein', description='example2_hypothetical_protein', dbxrefs=[]), 'example3_hypothetical_protein': SeqRecord(seq=Seq('MNEPSPDKTVDNISFSELPVQQPSLLHRIRTLVSALLLAIWCLVMPLVNLVWRL...DDK', SingleLetterAlphabet()), id='example3_hypothetical_protein', name='example3_hypothetical_protein', description='example3_hypothetical_protein', dbxrefs=[])}\n"
     ]
    }
   ],
   "source": [
    "from Bio import SeqIO\n",
    "\n",
    "# tab_fpath = 'example/genomes_dnds_analysis.tsv'\n",
    "concatenated_fasta_fpath = 'example/data/processed/orgs_yenB.faa'\n",
    "# outfile = open(tab_fpath,'w')\n",
    "genes = SeqIO.to_dict(SeqIO.parse(concatenated_fasta_fpath, 'fasta'))\n",
    "print(genes.keys())\n",
    "# print(genes)"
   ]
  },
  {
   "cell_type": "code",
   "execution_count": 35,
   "metadata": {},
   "outputs": [
    {
     "name": "stdout",
     "output_type": "stream",
     "text": [
      "pairwise comparison: 2:1 dNdS: 0.1676\n",
      "pairwise comparison: 3:1 dNdS: 0.0946\n",
      "pairwise comparison: 3:2 dNdS: 0.1566\n"
     ]
    }
   ],
   "source": [
    "ioi = None\n",
    "comps = dict()\n",
    "for fp in codeml_fpaths:\n",
    "    with open(fp) as fh:\n",
    "        for index,line in enumerate(fh):\n",
    "            if index == 0:\n",
    "                codeml_query = line.split()[-1]\n",
    "                gene = codeml_query.split('.')[0]\n",
    "                continue\n",
    "            for gene in genes:\n",
    "                if gene in line and '...' in line:\n",
    "#                     print(line.partition('...'))\n",
    "                    c1, c1_gene, _, c2, c2_gene = line.split()\n",
    "                    ioi = index + 4\n",
    "                    break\n",
    "            if ioi == index:\n",
    "#                 print(line.split())\n",
    "                llist = line.split()\n",
    "                dnds = llist[7]\n",
    "                dn = llist[10]\n",
    "                ds = llist[-1]\n",
    "            try:\n",
    "                comps.update({'{}:{}'.format(c1,c2):dnds})\n",
    "            except NameError as err:\n",
    "                pass\n",
    "#             print(c1, c2, dnds)\n",
    "\n",
    "for k,v in comps.items():\n",
    "    print('pairwise comparison: {} dNdS: {}'.format(k, v))"
   ]
  },
  {
   "cell_type": "code",
   "execution_count": null,
   "metadata": {
    "collapsed": true
   },
   "outputs": [],
   "source": []
  }
 ],
 "metadata": {
  "kernelspec": {
   "display_name": "Python 3",
   "language": "python",
   "name": "python3"
  },
  "language_info": {
   "codemirror_mode": {
    "name": "ipython",
    "version": 3
   },
   "file_extension": ".py",
   "mimetype": "text/x-python",
   "name": "python",
   "nbconvert_exporter": "python",
   "pygments_lexer": "ipython3",
   "version": "3.6.8"
  }
 },
 "nbformat": 4,
 "nbformat_minor": 2
}
