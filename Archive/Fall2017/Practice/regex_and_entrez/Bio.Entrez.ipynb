{
 "cells": [
  {
   "cell_type": "markdown",
   "metadata": {},
   "source": [
    "# Bio.Entrez module\n",
    "## 1. [Introduction](#1.-Introduction):\n",
    "1. NCBI and E-Utilities/Entrez\n",
    "2. Bio.Entrez\n",
    "\n",
    "## 2. [An Example](#2.-Bio.Entrez-Example)\n",
    "## 3. [More Detail](#3.-More-Bio.Entrez:)\n",
    "## 4. [More?](#4.-More-Request-Options)"
   ]
  },
  {
   "cell_type": "code",
   "execution_count": 2,
   "metadata": {
    "collapsed": true
   },
   "outputs": [],
   "source": [
    "import re\n",
    "from Bio import Entrez\n",
    "from Bio import SeqIO"
   ]
  },
  {
   "cell_type": "markdown",
   "metadata": {},
   "source": [
    "# 1. Introduction\n",
    "1. NCBI Entrez E-Utilities provide a url syntax for searching 38 NCBI databases\n",
    "2. Bio.Entrez is simply a wrapper for these E-Utilities:\n",
    "    1. Programmatic calls help slightly. Mostly ensures adherance to NCBI guidelines.\n",
    "    2. Parsing of results helps more"
   ]
  },
  {
   "cell_type": "markdown",
   "metadata": {},
   "source": [
    "# 2. Bio.Entrez Example\n",
    "#### _\"Hey, do any of those proteins include annotated CBMs?\"_"
   ]
  },
  {
   "cell_type": "code",
   "execution_count": 3,
   "metadata": {
    "collapsed": true
   },
   "outputs": [],
   "source": [
    "Entrez.email=\"combee_example_not_real at wisc dot edu\" #providing an email address is good for everyone"
   ]
  },
  {
   "cell_type": "code",
   "execution_count": 4,
   "metadata": {
    "collapsed": false,
    "scrolled": true
   },
   "outputs": [
    {
     "data": {
      "text/plain": [
       "['ADZ22510',\n",
       " 'FGU98722',\n",
       " 'EIM57503',\n",
       " 'AAC19169',\n",
       " 'BAB04322',\n",
       " 'AEV67086',\n",
       " 'ABW39335',\n",
       " 'AAA23220',\n",
       " 'AAA23224',\n",
       " 'CBL17440']"
      ]
     },
     "execution_count": 4,
     "metadata": {},
     "output_type": "execute_result"
    }
   ],
   "source": [
    "\"\"\"Get the list of accession codes\"\"\"\n",
    "import re\n",
    "#1st-read text file from regex example\n",
    "with open('./documents/AccessionExample1.txt') as f:\n",
    "    ex1text=f.read()\n",
    "#compile regex and find accession codes then 'clean' em up\n",
    "proteingb_regex=re.compile('[A-Za-z]{3}\\d{5}')\n",
    "paccs_=proteingb_regex.findall(ex1text)\n",
    "paccs_=list(set([x.upper() for x in paccs_]))\n",
    "paccs_"
   ]
  },
  {
   "cell_type": "code",
   "execution_count": 5,
   "metadata": {
    "collapsed": false
   },
   "outputs": [
    {
     "name": "stdout",
     "output_type": "stream",
     "text": [
      "failed to fetch FGU98722\n",
      "CBM included in BAB04322:{'note': 'Carbohydrate binding domain X2; pfam03442', 'db_xref': 'CDD:281441', 'region_name': 'CBM_X2'}\n"
     ]
    }
   ],
   "source": [
    "def parse_region(ftable_entry):\n",
    "    gbfquals_=ftable_entry['GBFeature_quals']\n",
    "    #if len(gbfquals_)>1:\n",
    "    #    return None\n",
    "    #gbfquals=gbfquals_[0]\n",
    "    retdict={}\n",
    "    for gbfdict in gbfquals_:\n",
    "        dakey,davalue=gbfdict['GBQualifier_name'],gbfdict['GBQualifier_value']\n",
    "        retdict[dakey]=davalue\n",
    "    return retdict\n",
    "\n",
    "for p in paccs_:\n",
    "    try:\n",
    "        srhandle=Entrez.efetch(db=\"protein\",id=p,rettype=\"gp\",retmode=\"xml\")\n",
    "    except:\n",
    "        print(\"failed to fetch {0}\".format(p))\n",
    "        continue\n",
    "    info=Entrez.read(srhandle)\n",
    "\n",
    "    for f in info[0]['GBSeq_feature-table']:\n",
    "        if f['GBFeature_key']=='Region':\n",
    "            regdict=parse_region(f)\n",
    "            if regdict['region_name'][:3]==\"CBM\":\n",
    "                print(\"CBM included in {0}:{1}\".format(p,regdict))"
   ]
  },
  {
   "cell_type": "markdown",
   "metadata": {},
   "source": [
    "# 3. More Bio.Entrez:\n",
    "1. Changing the retmode\n",
    "2. 'esearch' and others"
   ]
  },
  {
   "cell_type": "markdown",
   "metadata": {},
   "source": [
    "#### We used xml return type. Entrez.read() provides a big dictionary"
   ]
  },
  {
   "cell_type": "code",
   "execution_count": 14,
   "metadata": {
    "collapsed": false
   },
   "outputs": [
    {
     "name": "stdout",
     "output_type": "stream",
     "text": [
      "[{'GBSeq_project': 'PRJNA235', 'GBSeq_xrefs': [{'GBXref_id': 'PRJNA235', 'GBXref_dbname': 'BioProject'}, {'GBXref_id': 'SAMD00061093', 'GBXref_dbname': 'BioSample'}], 'GBSeq_source': 'Bacillus halodurans C-125', 'GBSeq_organism': 'Bacillus halodurans C-125', 'GBSeq_update-date': '10-MAY-2017', 'GBSeq_references': [{'GBReference_authors': ['Takami,H.'], 'GBReference_journal': '(in) Horikoshi,K. and Tsujii,K. (Eds.); EXTREMOPHILES IN DEEP-SEA ENVIRONMENTS: 249-284; Springer-Verlag (1999)', 'GBReference_title': 'Genome analysis of facultatively alkalihilic Bacillus halodurans C-125', 'GBReference_reference': '1'}, {'GBReference_xref': [{'GBXref_id': '10.1271/bbb.63.943', 'GBXref_dbname': 'doi'}], 'GBReference_reference': '2', 'GBReference_authors': ['Takami,H.', 'Horikoshi,K.'], 'GBReference_journal': 'Biosci. Biotechnol. Biochem. 63 (5), 943-945 (1999)', 'GBReference_title': 'Reidentification of Facultatively Alkaliphilic Bacillus sp. C-125 to Bacillus halodurans', 'GBReference_pubmed': '27385575'}, {'GBReference_authors': ['Takami,H.', 'Nakasone,K.', 'Hirama,C.', 'Takaki,Y.', 'Masui,N.', 'Fuji,F.', 'Nakamura,Y.', 'Inoue,A.'], 'GBReference_journal': 'Extremophiles 3 (1), 21-28 (1999)', 'GBReference_title': 'An improved physical and genetic map of the genome of alkaliphilic Bacillus sp. C-125', 'GBReference_reference': '3', 'GBReference_pubmed': '10086841'}, {'GBReference_authors': ['Takami,H.', 'Nakasone,K.', 'Ogasawara,N.', 'Hirama,C.', 'Nakamura,Y.', 'Masui,N.', 'Fuji,F.', 'Takaki,Y.', 'Inoue,A.', 'Horikoshi,K.'], 'GBReference_journal': 'Extremophiles 3 (1), 29-34 (1999)', 'GBReference_title': 'Sequencing of three lambda clones from the genome of alkaliphilic Bacillus sp. strain C-125', 'GBReference_reference': '4', 'GBReference_pubmed': '10086842'}, {'GBReference_xref': [{'GBXref_id': '10.1271/bbb.63.452', 'GBXref_dbname': 'doi'}], 'GBReference_reference': '5', 'GBReference_authors': ['Takami,H.', 'Takaki,Y.', 'Nakasone,K.', 'Hirama,C.', 'Inoue,A.', 'Horikoshi,K.'], 'GBReference_journal': 'Biosci. Biotechnol. Biochem. 63 (2), 452-455 (1999)', 'GBReference_title': 'Sequence analysis of a 32-kb region including the major ribosomal protein gene clusters from alkaliphilic Bacillus sp. strain C-125', 'GBReference_pubmed': '10192928'}, {'GBReference_authors': ['Takami,H.', 'Masui,N.', 'Nakasone,K.', 'Horikoshi,K.'], 'GBReference_journal': 'Biosci. Biotechnol. Biochem. 63 (6), 1134-1137 (1999)', 'GBReference_title': 'Replication origin region of the chromosome of alkaliphilic Bacillus halodurans C-125', 'GBReference_reference': '6', 'GBReference_pubmed': '10427704'}, {'GBReference_authors': ['Takami,H.', 'Takaki,Y.', 'Nakasone,K.', 'Sakiyama,T.', 'Maeno,G.', 'Sasaki,R.', 'Hirama,C.', 'Fuji,F.', 'Masui,N.'], 'GBReference_journal': 'Extremophiles 3 (3), 227-233 (1999)', 'GBReference_title': 'Genetic analysis of the chromosome of alkaliphilic Bacillus halodurans C-125', 'GBReference_reference': '7', 'GBReference_pubmed': '10484179'}, {'GBReference_authors': ['Takami,H.', 'Horikoshi,K.'], 'GBReference_journal': 'Extremophiles 4 (2), 99-108 (2000)', 'GBReference_title': 'Analysis of the genome of an alkaliphilic Bacillus strain from an industrial point of view', 'GBReference_reference': '8', 'GBReference_pubmed': '10805564'}, {'GBReference_authors': ['Nakasone,K.', 'Masui,N.', 'Takaki,Y.', 'Sasaki,R.', 'Maeno,G.', 'Sakiyama,T.', 'Hirama,C.', 'Fuji,F.', 'Takami,H.'], 'GBReference_journal': 'Extremophiles 4 (4), 209-214 (2000)', 'GBReference_title': 'Characterization and comparative study of the rrn operons of alkaliphilic Bacillus halodurans C-125', 'GBReference_reference': '9', 'GBReference_pubmed': '10972189'}, {'GBReference_authors': ['Takami,H.', 'Nakasone,K.', 'Takaki,Y.', 'Maeno,G.', 'Sasaki,R.', 'Masui,N.', 'Fuji,F.', 'Hirama,C.', 'Nakamura,Y.', 'Ogasawara,N.', 'Kuhara,S.', 'Horikoshi,K.'], 'GBReference_journal': 'Nucleic Acids Res. 28 (21), 4317-4331 (2000)', 'GBReference_title': 'Complete genome sequence of the alkaliphilic bacterium Bacillus halodurans and genomic sequence comparison with Bacillus subtilis', 'GBReference_reference': '10', 'GBReference_pubmed': '11058132'}, {'GBReference_authors': ['Takami,H.', 'Takaki,Y.'], 'GBReference_journal': 'Submitted (22-MAR-2000) Contact:Hideto Takami Japan Marine Science and Technology Center, Deep-sea Microorganisms Research Group; 2-15 Natsushima, Yokosuka, Kanagawa 237-0061, Japan URL :http://www.jamstec.go.jp/jamstec-e/bio/DEEPSTAR/ FResearch.html', 'GBReference_position': '1..574', 'GBReference_reference': '11', 'GBReference_title': 'Direct Submission'}], 'GBSeq_source-db': 'accession BA000004.3', 'GBSeq_locus': 'BAB04322', 'GBSeq_division': 'BCT', 'GBSeq_topology': 'linear', 'GBSeq_moltype': 'AA', 'GBSeq_taxonomy': 'Bacteria; Firmicutes; Bacilli; Bacillales; Bacillaceae; Bacillus', 'GBSeq_definition': 'endo-beta-1,4-glucanase (celulase B) [Bacillus halodurans C-125]', 'GBSeq_length': '574', 'GBSeq_other-seqids': ['dbj|BAB04322.1|', 'gi|10173217'], 'GBSeq_create-date': '03-AUG-2000', 'GBSeq_accession-version': 'BAB04322.1', 'GBSeq_primary-accession': 'BAB04322', 'GBSeq_feature-table': [{'GBFeature_key': 'source', 'GBFeature_intervals': [{'GBInterval_accession': 'BAB04322.1', 'GBInterval_to': '574', 'GBInterval_from': '1'}], 'GBFeature_location': '1..574', 'GBFeature_quals': [{'GBQualifier_name': 'organism', 'GBQualifier_value': 'Bacillus halodurans C-125'}, {'GBQualifier_name': 'strain', 'GBQualifier_value': 'C-125'}, {'GBQualifier_name': 'db_xref', 'GBQualifier_value': 'taxon:272558'}, {'GBQualifier_name': 'note', 'GBQualifier_value': 'alkaliphile'}]}, {'GBFeature_key': 'Protein', 'GBFeature_intervals': [{'GBInterval_accession': 'BAB04322.1', 'GBInterval_to': '574', 'GBInterval_from': '1'}], 'GBFeature_location': '1..574', 'GBFeature_quals': [{'GBQualifier_name': 'product', 'GBQualifier_value': 'endo-beta-1,4-glucanase (celulase B)'}, {'GBQualifier_name': 'calculated_mol_wt', 'GBQualifier_value': '65652'}]}, {'GBFeature_key': 'Region', 'GBFeature_intervals': [{'GBInterval_accession': 'BAB04322.1', 'GBInterval_to': '382', 'GBInterval_from': '1'}], 'GBFeature_location': '1..382', 'GBFeature_quals': [{'GBQualifier_name': 'region_name', 'GBQualifier_value': 'BglC'}, {'GBQualifier_name': 'note', 'GBQualifier_value': 'Aryl-phospho-beta-D-glucosidase BglC, GH1 family [Carbohydrate transport and metabolism]; COG2730'}, {'GBQualifier_name': 'db_xref', 'GBQualifier_value': 'CDD:225344'}]}, {'GBFeature_key': 'Region', 'GBFeature_intervals': [{'GBInterval_accession': 'BAB04322.1', 'GBInterval_to': '340', 'GBInterval_from': '59'}], 'GBFeature_location': '59..340', 'GBFeature_quals': [{'GBQualifier_name': 'region_name', 'GBQualifier_value': 'Cellulase'}, {'GBQualifier_name': 'note', 'GBQualifier_value': 'Cellulase (glycosyl hydrolase family 5); pfam00150'}, {'GBQualifier_name': 'db_xref', 'GBQualifier_value': 'CDD:278575'}]}, {'GBFeature_key': 'Region', 'GBFeature_intervals': [{'GBInterval_accession': 'BAB04322.1', 'GBInterval_to': '454', 'GBInterval_from': '367'}], 'GBFeature_location': '367..454', 'GBFeature_quals': [{'GBQualifier_name': 'region_name', 'GBQualifier_value': 'CBM_X2'}, {'GBQualifier_name': 'note', 'GBQualifier_value': 'Carbohydrate binding domain X2; pfam03442'}, {'GBQualifier_name': 'db_xref', 'GBQualifier_value': 'CDD:281441'}]}, {'GBFeature_key': 'CDS', 'GBFeature_intervals': [{'GBInterval_accession': 'BAB04322.1', 'GBInterval_to': '574', 'GBInterval_from': '1'}], 'GBFeature_location': '1..574', 'GBFeature_quals': [{'GBQualifier_name': 'gene', 'GBQualifier_value': 'BH0603'}, {'GBQualifier_name': 'coded_by', 'GBQualifier_value': 'BA000004.3:642042..643766'}, {'GBQualifier_name': 'transl_table', 'GBQualifier_value': '11'}]}], 'GBSeq_sequence': 'mkwmksmawlavvlvvsfvapavssahedvktldiqsyvrdmqpgwnlgntfdavgqdetawgnprvtrelieqiadegyksiripvtwenriggapdypidpqflnrvdqvvqwaleedlyvminlhhdswlwiyemehnyngvmvkyrslweqlsnhfkdyptklmfesvnepkfsqnwgeirenhhallddlntvffeivrqsggqndirplvlptmetatsqpllnnlyqtidklddpnliatvhyygfwpfsvniagytrfeenskqeiieafdrvhhtfvargipvvlgefgllgfdkhtgviqqgeklkffeflihhlnerdithmlwdngqhfnrhtyewydqelfdmmraswegrssvaesnfiylkqgdriadatvslqlhgneltglrangqrltpgqdyelngerltvkahvlsaiassgtlgtngmvtaefnrgadwhfrvntyrtpvlqstqghvsnfsipasfngnslatmeavyvdggnagpqdwtsfkefgyafspsydanemklteaffrevrdgevrltfhfwsgetvnytiikngnqvtgiaaqttnsknknkk'}]\n"
     ]
    }
   ],
   "source": [
    "srhandle=Entrez.efetch(db=\"protein\",id='BAB04322',rettype=\"gp\",retmode=\"xml\")\n",
    "protein_infos_=Entrez.read(srhandle)\n",
    "print(protein_infos_)"
   ]
  },
  {
   "cell_type": "markdown",
   "metadata": {},
   "source": [
    "#### We could instead pull as text and parse as a SeqRecord"
   ]
  },
  {
   "cell_type": "code",
   "execution_count": 7,
   "metadata": {
    "collapsed": false
   },
   "outputs": [
    {
     "name": "stdout",
     "output_type": "stream",
     "text": [
      "ID: ADZ22510.1\n",
      "Name: ADZ22510\n",
      "Description: Endoglucanase family 5; cell-adhesion and dockerin domains [Clostridium acetobutylicum EA 2018].\n",
      "Database cross-references: BioProject:PRJNA50455, BioSample:SAMN02603410\n",
      "Number of features: 8\n",
      "/keywords=['']\n",
      "/taxonomy=['Bacteria', 'Firmicutes', 'Clostridia', 'Clostridiales', 'Clostridiaceae', 'Clostridium']\n",
      "/date=07-JAN-2015\n",
      "/sequence_version=1\n",
      "/comment=Method: conceptual translation.\n",
      "/source=Clostridium acetobutylicum EA 2018\n",
      "/topology=linear\n",
      "/data_file_division=BCT\n",
      "/organism=Clostridium acetobutylicum EA 2018\n",
      "/accessions=['ADZ22510']\n",
      "/db_source=accession CP002118.1\n",
      "/references=[Reference(title='Comparative genomic and transcriptomic analysis revealed genetic characteristics related to solvent formation and xylose utilization in Clostridium acetobutylicum EA 2018', ...), Reference(title='Direct Submission', ...)]\n",
      "Seq('MRNKKRITSLVTGLAMLFTCAVGNTSLKVHADAQSIYTTKGETTKIYASAFTQN...KGA', IUPACProtein())\n"
     ]
    }
   ],
   "source": [
    "from Bio import SeqIO\n",
    "srhandle=Entrez.efetch(db=\"protein\",id='ADZ22510',rettype=\"gp\",retmode=\"text\")\n",
    "sr=list(SeqIO.parse(srhandle,\"genbank\"))[0]\n",
    "print(sr)"
   ]
  },
  {
   "cell_type": "markdown",
   "metadata": {},
   "source": [
    "#### esearch"
   ]
  },
  {
   "cell_type": "code",
   "execution_count": 13,
   "metadata": {
    "collapsed": false
   },
   "outputs": [
    {
     "name": "stdout",
     "output_type": "stream",
     "text": [
      "<?xml version=\"1.0\" encoding=\"UTF-8\" ?>\n",
      "<!DOCTYPE eSearchResult PUBLIC \"-//NLM//DTD esearch 20060628//EN\" \"https://eutils.ncbi.nlm.nih.gov/eutils/dtd/20060628/esearch.dtd\">\n",
      "<eSearchResult><Count>17</Count><RetMax>17</RetMax><RetStart>0</RetStart><IdList>\n",
      "<Id>ADU23246.1</Id>\n",
      "<Id>ADU23111.1</Id>\n",
      "<Id>ADU23074.1</Id>\n",
      "<Id>ADU22510.1</Id>\n",
      "<Id>ADU22343.1</Id>\n",
      "<Id>ADU22290.1</Id>\n",
      "<Id>ADU21877.1</Id>\n",
      "<Id>ADU21807.1</Id>\n",
      "<Id>ADU21608.1</Id>\n",
      "<Id>ADU21575.1</Id>\n",
      "<Id>ADU21559.1</Id>\n",
      "<Id>ADU21423.1</Id>\n",
      "<Id>ADU21113.1</Id>\n",
      "<Id>ADU20585.1</Id>\n",
      "<Id>AAT48117.1</Id>\n",
      "<Id>BAA92430.1</Id>\n",
      "<Id>BAA92146.1</Id>\n",
      "</IdList><TranslationSet><Translation>     <From>Ruminococcus albus[Organism]</From>     <To>\"Ruminococcus albus\"[Organism]</To>    </Translation></TranslationSet><TranslationStack>   <TermSet>    <Term>\"Ruminococcus albus\"[Organism]</Term>    <Field>Organism</Field>    <Count>38790</Count>    <Explode>Y</Explode>   </TermSet>   <TermSet>    <Term>\"glycoside hydrolase family 5\"[All Fields]</Term>    <Field>All Fields</Field>    <Count>4553</Count>    <Explode>N</Explode>   </TermSet>   <OP>AND</OP>  </TranslationStack><QueryTranslation>\"Ruminococcus albus\"[Organism] AND \"glycoside hydrolase family 5\"[All Fields]</QueryTranslation></eSearchResult>\n",
      "\n"
     ]
    }
   ],
   "source": [
    "'''find all annotated GH5s in Ruminococcus albus'''\n",
    "srhandle=Entrez.esearch(db=\"protein\",term=\"Ruminococcus albus[Organism] AND \\\"glycoside hydrolase family 5\\\"[All Fields]\",idtype=\"acc\",retmax=65)\n",
    "a=srhandle.read()\n",
    "print(a)"
   ]
  },
  {
   "cell_type": "markdown",
   "metadata": {},
   "source": [
    "# 4. More Request Options"
   ]
  },
  {
   "cell_type": "markdown",
   "metadata": {},
   "source": [
    "#### many return type options"
   ]
  },
  {
   "cell_type": "code",
   "execution_count": 9,
   "metadata": {
    "collapsed": false
   },
   "outputs": [
    {
     "name": "stdout",
     "output_type": "stream",
     "text": [
      ">Feature dbj|BAB04322.1|\n",
      "1\t574\tProtein\n",
      "\t\t\tproduct\tendo-beta-1,4-glucanase (celulase B)\n",
      "1\t382\tRegion\n",
      "\t\t\tregion_name\tBglC\n",
      "\t\t\tnote\tAryl-phospho-beta-D-glucosidase BglC, GH1 family [Carbohydrate transport and metabolism]\n",
      "\t\t\tdb_xref\tCDD:225344\n",
      "59\t340\tRegion\n",
      "\t\t\tregion_name\tCellulase\n",
      "\t\t\tnote\tCellulase (glycosyl hydrolase family 5)\n",
      "\t\t\tdb_xref\tCDD:278575\n",
      "367\t454\tRegion\n",
      "\t\t\tregion_name\tCBM_X2\n",
      "\t\t\tnote\tCarbohydrate binding domain X2\n",
      "\t\t\tdb_xref\tCDD:281441\n",
      "\n",
      "\n"
     ]
    }
   ],
   "source": [
    "srhandle=Entrez.efetch(db=\"protein\",id=\"BAB04322\",rettype=\"ft\",retmode=\"xml\")\n",
    "a=srhandle.read()\n",
    "print(a)"
   ]
  },
  {
   "cell_type": "markdown",
   "metadata": {},
   "source": [
    "### Bio.Entrez documentation mostly refers to NCBI Entrez\n",
    "[Available databases](https://www.ncbi.nlm.nih.gov/books/NBK25497/table/chapter2.T._entrez_unique_identifiers_ui/?report=objectonly)\n",
    "\n",
    "![title](./images/EntrezDBNames.png \"our key\")\n",
    "\n",
    "[efetch options](https://www.ncbi.nlm.nih.gov/books/NBK25499/table/chapter4.T._valid_values_of__retmode_and/?report=objectonly)\n",
    "\n",
    "![title](./images/EntrezEFetchOptions.png \"efetchstuff\")\n"
   ]
  }
 ],
 "metadata": {
  "kernelspec": {
   "display_name": "Python 3",
   "language": "python",
   "name": "python3"
  },
  "language_info": {
   "codemirror_mode": {
    "name": "ipython",
    "version": 3
   },
   "file_extension": ".py",
   "mimetype": "text/x-python",
   "name": "python",
   "nbconvert_exporter": "python",
   "pygments_lexer": "ipython3",
   "version": "3.5.4"
  }
 },
 "nbformat": 4,
 "nbformat_minor": 2
}
