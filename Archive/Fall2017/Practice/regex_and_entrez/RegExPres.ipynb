{
 "cells": [
  {
   "cell_type": "markdown",
   "metadata": {},
   "source": [
    "# Regular Expressions\n",
    "# 1. [Introduction to Regular Expressions](#1.-Regular-Expressions-Intro)\n",
    " 1. [What are Regular Expressions](#1.-What-are-Regular-Expressions)\n",
    " 2. [A Simple Python Example](#2.-A-Simple-Python-Example:)\n",
    " \n",
    "# 2. [Regular Expression Patterns Shallow Dive:](#2.-A-Few-Regular-Expression-Patterns)\n",
    "* Metacharacters and Special Sequences\n",
    "* Search vs Match"
   ]
  },
  {
   "cell_type": "markdown",
   "metadata": {},
   "source": [
    "# 1. Regular Expressions Intro"
   ]
  },
  {
   "cell_type": "markdown",
   "metadata": {},
   "source": [
    "### 1. What are Regular Expressions\n",
    "* A Description of a Text Pattern\n",
    "Regular expressions are a way to define a text pattern of interest. Everyone is familiar with some of the common special characters employed in regular expressions,  \\*  as a wildcard for example\n",
    "\n",
    "\n",
    "* A tool for searching for a text pattern\n",
    "\n",
    "\n",
    "* A tool for repeated utilization of a text pattern\n",
    "Regular expressions allow for multipart and (limited) nested search patterns."
   ]
  },
  {
   "cell_type": "markdown",
   "metadata": {},
   "source": [
    "### 2. A Simple Python Example:\n",
    "#### The Task\n",
    "_A collaborator sends you a list of ids of interest, but you only want those corresponding to GenBank accession numbers_\n",
    "\n",
    "![title](./images/GBFormatsNCBI.png \"our key\")\n",
    "\n",
    "### The Python Approach\n",
    " 1. Import the regular expression module (re)\n",
    " 2. Compile the regular expression\n",
    " 3. Use the regular expression to find target pattern\n",
    " 4. Optional --- Put the match object to work!"
   ]
  },
  {
   "cell_type": "code",
   "execution_count": 2,
   "metadata": {},
   "outputs": [
    {
     "name": "stdout",
     "output_type": "stream",
     "text": [
      "adz22510.1\n",
      "AEV67086.1\n",
      "  CBL17440\n",
      "EIM57503.2\n",
      "AAC19169.1\n",
      "afY52522.1  (this is the best one)\n",
      "AAa23220.1\n",
      "wp_005355457.1\n",
      "AA123456.1\n",
      "ADZ22510\n",
      "zp054688.1\n",
      "ZP_010248927.1\n",
      "tr7892101\n",
      "zp_010248927\n",
      "abw39335.1 ***check out kcat here\n",
      "2211254a ***dino DNA I think\n",
      " gh781556 ***possibly dino here as well\n",
      "fgu98722.3\n",
      "-One of my favorites is adz22510\n",
      "\n"
     ]
    }
   ],
   "source": [
    "#First let's look at the text file\n",
    "with open('./documents/AccessionExample1.txt') as f:\n",
    "    ex1text=f.read()\n",
    "print(ex1text)"
   ]
  },
  {
   "cell_type": "code",
   "execution_count": 3,
   "metadata": {},
   "outputs": [
    {
     "data": {
      "text/plain": [
       "['adz22510',\n",
       " 'AEV67086',\n",
       " 'CBL17440',\n",
       " 'EIM57503',\n",
       " 'AAC19169',\n",
       " 'afY52522',\n",
       " 'AAa23220',\n",
       " 'ADZ22510',\n",
       " 'abw39335',\n",
       " 'fgu98722',\n",
       " 'adz22510']"
      ]
     },
     "execution_count": 3,
     "metadata": {},
     "output_type": "execute_result"
    }
   ],
   "source": [
    "#let's find all gb protein ids\n",
    "import re   #1 - importing regular expression module (it is now imported for subsequent cells)\n",
    "proteingb_regex=re.compile('[A-Za-z]{3}\\d{5}')   #2 - compiling the regular expression\n",
    "protaccs_=proteingb_regex.findall(ex1text)    #3 - using the regular expression\n",
    "protaccs_"
   ]
  },
  {
   "cell_type": "markdown",
   "metadata": {},
   "source": [
    "### A new task\n",
    "_You want to know how many of those accession codes reflect sequence record versions >1_\n",
    "### GB Protein Format: 3letters + 5numbers + . + version number\n",
    "- AAC19169.1 = version 1 sequence record\n",
    "- EIM57503.2 = version 2 sequence record\n",
    "\n",
    "### Solution: using grouping"
   ]
  },
  {
   "cell_type": "code",
   "execution_count": 19,
   "metadata": {},
   "outputs": [
    {
     "name": "stdout",
     "output_type": "stream",
     "text": [
      "match to adz22510.1\n",
      "match to AEV67086.1\n",
      "match to CBL17440\n",
      "match to EIM57503.2\n",
      "EIM57503 is version #2\n",
      "match to AAC19169.1\n",
      "match to afY52522.1\n",
      "match to AAa23220.1\n",
      "match to ADZ22510\n",
      "match to abw39335.1\n",
      "match to fgu98722.3\n",
      "fgu98722 is version #3\n",
      "match to adz22510\n"
     ]
    }
   ],
   "source": [
    "#Group 1 = accession code\n",
    "#Group 2 = revision number (0 or 1 matches required)\n",
    "proteingb_regex=re.compile('([A-Za-z]{3}\\d{5})(\\.\\d)?')\n",
    "for mobj in proteingb_regex.finditer(ex1text):  #NOW 4 - put the regular expression to work!\n",
    "    print('match to {0}'.format(mobj.group(0)))\n",
    "    if mobj.group(2) and int(mobj.group(2)[1])>1:\n",
    "        print('{0} is version #{1}'.format(mobj.group(1),mobj.group(2)[1]))"
   ]
  },
  {
   "cell_type": "markdown",
   "metadata": {},
   "source": [
    "# 2. A Few Regular Expression Patterns"
   ]
  },
  {
   "cell_type": "markdown",
   "metadata": {},
   "source": [
    "### Metacharacters and Special Sequences\n",
    "See the python regular expression [how-to link](https://docs.python.org/3.6/howto/regex.html#simple-patterns)\n",
    "\n",
    "Regular expressions use a combination of characters, metacharacters, and special sequences: _([A-Za-z]{3}\\d{5})(\\.\\d)?_\n",
    "\n",
    "Most characters simply match themselves- e.g., a regular expression compiled from 'stuf' would match 'stuf','stuf8',etc\n",
    "\n",
    "But not metacharacters: . ^ $ * + ? { } [ ] \\ | ( )\n",
    "\n",
    "Special sequences: \\d \\D \\s \\S \\s \\W"
   ]
  },
  {
   "cell_type": "markdown",
   "metadata": {},
   "source": [
    "#### Metacharacters:\n",
    "* [ ] enclose characters of interest\n",
    "* ^ matches the beginning of a string"
   ]
  },
  {
   "cell_type": "code",
   "execution_count": 16,
   "metadata": {},
   "outputs": [
    {
     "name": "stdout",
     "output_type": "stream",
     "text": [
      "None\n",
      "<_sre.SRE_Match object; span=(0, 1), match='b'>\n"
     ]
    }
   ],
   "source": [
    "#an example\n",
    "str1='stuffaroo'\n",
    "str2='bstuffaroo'\n",
    "abcre=re.compile('[abc]')\n",
    "print(abcre.match(str1))\n",
    "print(abcre.match(str2))"
   ]
  },
  {
   "cell_type": "markdown",
   "metadata": {},
   "source": [
    "#### Search vs Match"
   ]
  },
  {
   "cell_type": "code",
   "execution_count": 14,
   "metadata": {},
   "outputs": [
    {
     "name": "stdout",
     "output_type": "stream",
     "text": [
      "<_sre.SRE_Match object; span=(5, 6), match='a'>\n",
      "<_sre.SRE_Match object; span=(0, 1), match='b'>\n"
     ]
    }
   ],
   "source": [
    "#side note, 'search' looks for your pattern _anywhere_\n",
    "print(abcre.search(str1))\n",
    "print(abcre.search(str2))"
   ]
  },
  {
   "cell_type": "code",
   "execution_count": 15,
   "metadata": {},
   "outputs": [
    {
     "name": "stdout",
     "output_type": "stream",
     "text": [
      "None\n",
      "<_sre.SRE_Match object; span=(0, 1), match='b'>\n"
     ]
    }
   ],
   "source": [
    "#'match' = 'search' with prepended ^\n",
    "abc_startre=re.compile('^[abc]')\n",
    "print(abc_startre.search(str1))\n",
    "print(abc_startre.search(str2))"
   ]
  },
  {
   "cell_type": "markdown",
   "metadata": {},
   "source": [
    "#### More Metacharacters and Let's Throw in a Couple Special Sequences\n",
    "* \\* matches 0 or more of a pattern\n",
    "* \\+ matches 1 or more of a pattern\n",
    "* ( ) used for grouping as shown in example\n",
    "* \\\\s matches any whitespace character [ \\t\\n\\r\\f\\v]\n",
    "* \\\\d matches any decimal digit [0-9]"
   ]
  },
  {
   "cell_type": "code",
   "execution_count": 22,
   "metadata": {},
   "outputs": [
    {
     "name": "stdout",
     "output_type": "stream",
     "text": [
      "<_sre.SRE_Match object; span=(0, 13), match='17 cool beans'>\n",
      "<_sre.SRE_Match object; span=(0, 11), match='17coolbeans'>\n",
      "<_sre.SRE_Match object; span=(0, 17), match='17      coolbeans'>\n",
      "<_sre.SRE_Match object; span=(0, 8), match='21 beans'>\n",
      "<_sre.SRE_Match object; span=(15, 23), match='15 beans'>\n",
      "None\n",
      "None\n"
     ]
    }
   ],
   "source": [
    "\"\"\"example: you want to a mention of some number of beans,\n",
    "   which may or may not be cool, in a string/file\"\"\"\n",
    "cbre=re.compile('\\d+\\s*(cool)*\\s*(beans)+')\n",
    "str3='17 cool beans,thats a lot'\n",
    "str4='17coolbeans'\n",
    "str5='17      coolbeans'\n",
    "str6='21 beans'\n",
    "str7='something like 15 beans'\n",
    "str8='something like 15 cool '\n",
    "str9='no beans'\n",
    "print(cbre.search(str3))\n",
    "print(cbre.search(str4))\n",
    "print(cbre.search(str5))\n",
    "print(cbre.search(str6))\n",
    "print(cbre.search(str7))\n",
    "print(cbre.search(str8))\n",
    "print(cbre.search(str9))"
   ]
  }
 ],
 "metadata": {
  "kernelspec": {
   "display_name": "Python 3",
   "language": "python",
   "name": "python3"
  },
  "language_info": {
   "codemirror_mode": {
    "name": "ipython",
    "version": 3
   },
   "file_extension": ".py",
   "mimetype": "text/x-python",
   "name": "python",
   "nbconvert_exporter": "python",
   "pygments_lexer": "ipython3",
   "version": "3.5.3"
  }
 },
 "nbformat": 4,
 "nbformat_minor": 2
}
