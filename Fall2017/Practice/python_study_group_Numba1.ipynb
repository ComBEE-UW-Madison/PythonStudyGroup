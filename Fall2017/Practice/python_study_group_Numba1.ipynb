{
 "cells": [
  {
   "cell_type": "code",
   "execution_count": 77,
   "metadata": {},
   "outputs": [],
   "source": [
    "import pandas as pd\n",
    "import numba\n",
    "import numpy as np"
   ]
  },
  {
   "cell_type": "code",
   "execution_count": 67,
   "metadata": {},
   "outputs": [
    {
     "name": "stderr",
     "output_type": "stream",
     "text": [
      "/Users/Huan/anaconda/lib/python3.5/site-packages/ipykernel_launcher.py:1: DeprecationWarning: using a non-integer number instead of an integer will result in an error in the future\n",
      "  \"\"\"Entry point for launching an IPython kernel.\n",
      "/Users/Huan/anaconda/lib/python3.5/site-packages/ipykernel_launcher.py:2: DeprecationWarning: using a non-integer number instead of an integer will result in an error in the future\n",
      "  \n"
     ]
    }
   ],
   "source": [
    "counts = np.random.randint(0, 1e5, 1e7)\n",
    "numbers = np.random.randint(0, 1e4, 1e7)"
   ]
  },
  {
   "cell_type": "markdown",
   "metadata": {},
   "source": [
    "### Pandas"
   ]
  },
  {
   "cell_type": "code",
   "execution_count": 68,
   "metadata": {},
   "outputs": [
    {
     "name": "stdout",
     "output_type": "stream",
     "text": [
      "CPU times: user 1.27 s, sys: 186 ms, total: 1.46 s\n",
      "Wall time: 1.5 s\n"
     ]
    }
   ],
   "source": [
    "df = pd.Series(counts, index=numbers)\n",
    "%time m = df.groupby(level=0).sum()"
   ]
  },
  {
   "cell_type": "markdown",
   "metadata": {},
   "source": [
    "### Pure Python"
   ]
  },
  {
   "cell_type": "code",
   "execution_count": 69,
   "metadata": {},
   "outputs": [],
   "source": [
    "def groupby_python(index, value, output):\n",
    "    for i in range(index.shape[0]):\n",
    "        output[index[i]] += value[i]"
   ]
  },
  {
   "cell_type": "code",
   "execution_count": 74,
   "metadata": {},
   "outputs": [
    {
     "name": "stdout",
     "output_type": "stream",
     "text": [
      "CPU times: user 5.58 s, sys: 18 ms, total: 5.6 s\n",
      "Wall time: 5.62 s\n"
     ]
    }
   ],
   "source": [
    "m_python = np.zeros_like(m)\n",
    "#m_python = dict.fromkeys(numbers,0)\n",
    "%time groupby_python(numbers, counts, m_python)"
   ]
  },
  {
   "cell_type": "markdown",
   "metadata": {},
   "source": [
    "## numba"
   ]
  },
  {
   "cell_type": "code",
   "execution_count": 75,
   "metadata": {},
   "outputs": [
    {
     "name": "stdout",
     "output_type": "stream",
     "text": [
      "CPU times: user 116 ms, sys: 21.2 ms, total: 137 ms\n",
      "Wall time: 212 ms\n"
     ]
    }
   ],
   "source": [
    "groupby_numba = numba.jit(groupby_python)\n",
    "m_numba = np.zeros_like(m)\n",
    "#m_numba = dict.fromkeys(numbers,0)\n",
    "%time groupby_numba(numbers, counts, m_numba)"
   ]
  },
  {
   "cell_type": "code",
   "execution_count": null,
   "metadata": {},
   "outputs": [],
   "source": []
  }
 ],
 "metadata": {
  "kernelspec": {
   "display_name": "Python 3",
   "language": "python",
   "name": "python3"
  },
  "language_info": {
   "codemirror_mode": {
    "name": "ipython",
    "version": 3
   },
   "file_extension": ".py",
   "mimetype": "text/x-python",
   "name": "python",
   "nbconvert_exporter": "python",
   "pygments_lexer": "ipython3",
   "version": "3.5.4"
  }
 },
 "nbformat": 4,
 "nbformat_minor": 2
}
